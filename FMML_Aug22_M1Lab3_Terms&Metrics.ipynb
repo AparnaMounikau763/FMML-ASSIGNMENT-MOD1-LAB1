{
  "nbformat": 4,
  "nbformat_minor": 0,
  "metadata": {
    "colab": {
      "provenance": [],
      "include_colab_link": true
    },
    "kernelspec": {
      "name": "python3",
      "display_name": "Python 3"
    },
    "language_info": {
      "name": "python"
    }
  },
  "cells": [
    {
      "cell_type": "markdown",
      "metadata": {
        "id": "view-in-github",
        "colab_type": "text"
      },
      "source": [
        "<a href=\"https://colab.research.google.com/github/AparnaMounikau763/FMML-ASSIGNMENT-MOD1-LAB1/blob/main/FMML_Aug22_M1Lab3_Terms%26Metrics.ipynb\" target=\"_parent\"><img src=\"https://colab.research.google.com/assets/colab-badge.svg\" alt=\"Open In Colab\"/></a>"
      ]
    },
    {
      "cell_type": "markdown",
      "metadata": {
        "id": "3Eu9VZbF01eq"
      },
      "source": [
        "# Machine learning terms and metrics\n",
        "\n",
        "FMML Module 1, Lab 3<br>\n",
        "Module Coordinator: Amit Pandey amit.pandey@research.iiit.ac.in <br>\n",
        "<br>\n",
        "\n",
        " In this lab, we will show a part of the ML pipeline by extracting features, training and testing. We will also explore how data augmentation affects accuracy."
      ]
    },
    {
      "cell_type": "code",
      "metadata": {
        "id": "8qBvyEem0vLi"
      },
      "source": [
        "import matplotlib.pyplot as plt\n",
        "import numpy as np\n",
        "from sklearn import datasets\n",
        "# set randomseed\n",
        "rng = np.random.default_rng(seed=42)"
      ],
      "execution_count": 1,
      "outputs": []
    },
    {
      "cell_type": "markdown",
      "metadata": {
        "id": "u3t59g5s1HfC"
      },
      "source": [
        "In this lab, we will use the California Housing dataset. There are 20640 samples, each with 8 attributes like income of the block, age of the houses per district etc. The task is to predict the cost of the houses per district. \n",
        "\n",
        "Let us download and examine the dataset. "
      ]
    },
    {
      "cell_type": "code",
      "metadata": {
        "id": "8LpqjN991GGJ",
        "colab": {
          "base_uri": "https://localhost:8080/"
        },
        "outputId": "b3e86044-ddf4-42b2-a0da-1e11f4f4bb6c"
      },
      "source": [
        " dataset =  datasets.fetch_california_housing()\n",
        " # print(dataset.DESCR)  # uncomment this if you want to know more about this dataset\n",
        " # print(dataset.keys())  # if you want to know what else is there in this dataset\n",
        " dataset.target = dataset.target.astype(np.int) # so that we can classify\n",
        " print(dataset.data.shape)\n",
        " print(dataset.target.shape)"
      ],
      "execution_count": 2,
      "outputs": [
        {
          "output_type": "stream",
          "name": "stdout",
          "text": [
            "(20640, 8)\n",
            "(20640,)\n"
          ]
        },
        {
          "output_type": "stream",
          "name": "stderr",
          "text": [
            "/usr/local/lib/python3.7/dist-packages/ipykernel_launcher.py:4: DeprecationWarning: `np.int` is a deprecated alias for the builtin `int`. To silence this warning, use `int` by itself. Doing this will not modify any behavior and is safe. When replacing `np.int`, you may wish to use e.g. `np.int64` or `np.int32` to specify the precision. If you wish to review your current use, check the release note link for additional information.\n",
            "Deprecated in NumPy 1.20; for more details and guidance: https://numpy.org/devdocs/release/1.20.0-notes.html#deprecations\n",
            "  after removing the cwd from sys.path.\n"
          ]
        }
      ]
    },
    {
      "cell_type": "markdown",
      "metadata": {
        "id": "iNx4174W5xRg"
      },
      "source": [
        "Here is a function for calculating the 1-nearest neighbours"
      ]
    },
    {
      "cell_type": "code",
      "source": [
        "type(dataset), dataset.DESCR"
      ],
      "metadata": {
        "colab": {
          "base_uri": "https://localhost:8080/"
        },
        "id": "ut5lj4HsaTfp",
        "outputId": "c162d249-ec3f-4ed5-fa2c-e7002bb26622"
      },
      "execution_count": 3,
      "outputs": [
        {
          "output_type": "execute_result",
          "data": {
            "text/plain": [
              "(sklearn.utils.Bunch,\n",
              " '.. _california_housing_dataset:\\n\\nCalifornia Housing dataset\\n--------------------------\\n\\n**Data Set Characteristics:**\\n\\n    :Number of Instances: 20640\\n\\n    :Number of Attributes: 8 numeric, predictive attributes and the target\\n\\n    :Attribute Information:\\n        - MedInc        median income in block group\\n        - HouseAge      median house age in block group\\n        - AveRooms      average number of rooms per household\\n        - AveBedrms     average number of bedrooms per household\\n        - Population    block group population\\n        - AveOccup      average number of household members\\n        - Latitude      block group latitude\\n        - Longitude     block group longitude\\n\\n    :Missing Attribute Values: None\\n\\nThis dataset was obtained from the StatLib repository.\\nhttps://www.dcc.fc.up.pt/~ltorgo/Regression/cal_housing.html\\n\\nThe target variable is the median house value for California districts,\\nexpressed in hundreds of thousands of dollars ($100,000).\\n\\nThis dataset was derived from the 1990 U.S. census, using one row per census\\nblock group. A block group is the smallest geographical unit for which the U.S.\\nCensus Bureau publishes sample data (a block group typically has a population\\nof 600 to 3,000 people).\\n\\nAn household is a group of people residing within a home. Since the average\\nnumber of rooms and bedrooms in this dataset are provided per household, these\\ncolumns may take surpinsingly large values for block groups with few households\\nand many empty houses, such as vacation resorts.\\n\\nIt can be downloaded/loaded using the\\n:func:`sklearn.datasets.fetch_california_housing` function.\\n\\n.. topic:: References\\n\\n    - Pace, R. Kelley and Ronald Barry, Sparse Spatial Autoregressions,\\n      Statistics and Probability Letters, 33 (1997) 291-297\\n')"
            ]
          },
          "metadata": {},
          "execution_count": 3
        }
      ]
    },
    {
      "cell_type": "code",
      "metadata": {
        "id": "07zpydQj1hIQ",
        "outputId": "068dbdbd-2ce6-4f71-d21d-569866db23dc",
        "colab": {
          "base_uri": "https://localhost:8080/"
        }
      },
      "source": [
        "def NN1(traindata, trainlabel, query):\n",
        "  diff  = traindata - query  # find the difference between features. Numpy automatically takes care of the size here \n",
        "  sq = diff*diff # square the differences\n",
        "  dist = sq.sum(1) # add up the squares\n",
        "  label = trainlabel[np.argmin(dist)] # our predicted label is the label of the training data which has the least distance from the query\n",
        "  return label\n",
        "\n",
        "def NN(traindata, trainlabel, testdata):\n",
        "  # we will run nearest neighbour for each sample in the test data \n",
        "  # and collect the predicted classes in an array using list comprehension\n",
        "  predlabel = np.array([NN1(traindata, trainlabel, i) for i in testdata])\n",
        "  return predlabel\n",
        "\n",
        "\n",
        "\n",
        "5,5\n",
        "6,6\n",
        "8,9\n",
        "\n",
        "\n",
        "0,0"
      ],
      "execution_count": 4,
      "outputs": [
        {
          "output_type": "execute_result",
          "data": {
            "text/plain": [
              "(0, 0)"
            ]
          },
          "metadata": {},
          "execution_count": 4
        }
      ]
    },
    {
      "cell_type": "markdown",
      "metadata": {
        "id": "03JktkfIGaje"
      },
      "source": [
        "We will also define a 'random classifier', which randomly allots labels to each sample"
      ]
    },
    {
      "cell_type": "code",
      "metadata": {
        "id": "fogWAtjyGhAH"
      },
      "source": [
        "def RandomClassifier(traindata, trainlabel, testdata):\n",
        "  # in reality, we don't need these arguments\n",
        "\n",
        "  classes = np.unique(trainlabel)\n",
        "  rints = rng.integers(low=0, high=len(classes), size=len(testdata))\n",
        "  predlabel = classes[rints]\n",
        "  return predlabel"
      ],
      "execution_count": 5,
      "outputs": []
    },
    {
      "cell_type": "markdown",
      "metadata": {
        "id": "1Hjf1KHs7fU5"
      },
      "source": [
        "Let us define a metric 'Accuracy' to see how good our learning algorithm is. Accuracy is the ratio of the number of correctly classified samples to the total number of samples. The higher the accuracy, the better the algorithm. "
      ]
    },
    {
      "cell_type": "code",
      "metadata": {
        "id": "ouuCqWU07bz-"
      },
      "source": [
        "def Accuracy(gtlabel, predlabel):\n",
        "  assert len(gtlabel)==len(predlabel), \"Length of the groundtruth labels and predicted labels should be the same\"\n",
        "  correct = (gtlabel==predlabel).sum() # count the number of times the groundtruth label is equal to the predicted label.\n",
        "  return correct/len(gtlabel)"
      ],
      "execution_count": 6,
      "outputs": []
    },
    {
      "cell_type": "markdown",
      "metadata": {
        "id": "4vJFwBFa9Klw"
      },
      "source": [
        "Let us make a function to split the dataset with the desired probability."
      ]
    },
    {
      "cell_type": "code",
      "metadata": {
        "id": "Ko0VzpSM2Tdi"
      },
      "source": [
        "def split(data, label, percent):\n",
        "  # generate a random number for each sample\n",
        "  rnd = rng.random(len(label))\n",
        "  split1 = rnd<percent\n",
        "  split2 = rnd>=percent\n",
        "  split1data = data[split1,:]\n",
        "  split1label = label[split1]\n",
        "  split2data = data[split2,:]\n",
        "  split2label = label[split2]\n",
        "  return split1data, split1label, split2data, split2label"
      ],
      "execution_count": 7,
      "outputs": []
    },
    {
      "cell_type": "markdown",
      "metadata": {
        "id": "AcK3LEAJ_LGC"
      },
      "source": [
        "We will reserve 20% of our dataset as the test set. We will not change this portion throughout our experiments"
      ]
    },
    {
      "cell_type": "code",
      "metadata": {
        "id": "bBZkHBLJ1iU-",
        "colab": {
          "base_uri": "https://localhost:8080/"
        },
        "outputId": "3f152604-cf10-4238-f20e-7794d78c890e"
      },
      "source": [
        "testdata, testlabel, alltraindata, alltrainlabel = split(dataset.data, dataset.target, 20/100)\n",
        "print('Number of test samples = ', len(testlabel))\n",
        "print('Number of other samples = ', len(alltrainlabel))\n",
        "print('Percent of test data = ', len(testlabel)*100/len(dataset.target),'%')"
      ],
      "execution_count": 8,
      "outputs": [
        {
          "output_type": "stream",
          "name": "stdout",
          "text": [
            "Number of test samples =  4144\n",
            "Number of other samples =  16496\n",
            "Percent of test data =  20.07751937984496 %\n"
          ]
        }
      ]
    },
    {
      "cell_type": "markdown",
      "metadata": {
        "id": "a6Ss0Z6IAGNV"
      },
      "source": [
        "## Experiments with splits\n",
        "\n",
        "Let us reserve some of our train data as a validation set"
      ]
    },
    {
      "cell_type": "code",
      "metadata": {
        "id": "WFew2iry_7W7"
      },
      "source": [
        "traindata, trainlabel, valdata, vallabel = split(alltraindata, alltrainlabel, 75/100)"
      ],
      "execution_count": 9,
      "outputs": []
    },
    {
      "cell_type": "markdown",
      "metadata": {
        "id": "60hiu4clFN1i"
      },
      "source": [
        "What is the accuracy of our classifiers on the train dataset?"
      ]
    },
    {
      "cell_type": "code",
      "metadata": {
        "id": "DBlZDTHUFTZx",
        "colab": {
          "base_uri": "https://localhost:8080/"
        },
        "outputId": "670aaa10-192d-4e20-ada1-3402493d26aa"
      },
      "source": [
        "trainpred = NN(traindata, trainlabel, traindata)\n",
        "trainAccuracy = Accuracy(trainlabel, trainpred)\n",
        "print(\"Train accuracy using nearest neighbour is \", trainAccuracy)\n",
        "\n",
        "trainpred = RandomClassifier(traindata, trainlabel, traindata)\n",
        "trainAccuracy = Accuracy(trainlabel, trainpred)\n",
        "print(\"Train accuracy using random classifier is \", trainAccuracy)"
      ],
      "execution_count": 13,
      "outputs": [
        {
          "output_type": "stream",
          "name": "stdout",
          "text": [
            "Train accuracy using nearest neighbour is  1.0\n",
            "Train accuracy using random classifier is  0.17205692108667528\n"
          ]
        }
      ]
    },
    {
      "cell_type": "code",
      "source": [
        "5,5 - A\n",
        "6,6 -B\n",
        "7,7 -C\n",
        "\n",
        "\n",
        "\n",
        "8,8 - A | C\n",
        "0,0 -B | A   - 0\n",
        "\n",
        "\n",
        "10,10     -A\n",
        "15,15     -C"
      ],
      "metadata": {
        "id": "rVn-gRr9smdu",
        "outputId": "ee2ca365-82e2-4654-d409-2c227f69f7bf",
        "colab": {
          "base_uri": "https://localhost:8080/",
          "height": 241
        }
      },
      "execution_count": 17,
      "outputs": [
        {
          "output_type": "error",
          "ename": "NameError",
          "evalue": "ignored",
          "traceback": [
            "\u001b[0;31m---------------------------------------------------------------------------\u001b[0m",
            "\u001b[0;31mNameError\u001b[0m                                 Traceback (most recent call last)",
            "\u001b[0;32m<ipython-input-17-8f853d8ba166>\u001b[0m in \u001b[0;36m<module>\u001b[0;34m\u001b[0m\n\u001b[0;32m----> 1\u001b[0;31m \u001b[0;36m5\u001b[0m\u001b[0;34m,\u001b[0m\u001b[0;36m5\u001b[0m \u001b[0;34m-\u001b[0m \u001b[0mA\u001b[0m\u001b[0;34m\u001b[0m\u001b[0;34m\u001b[0m\u001b[0m\n\u001b[0m\u001b[1;32m      2\u001b[0m \u001b[0;36m6\u001b[0m\u001b[0;34m,\u001b[0m\u001b[0;36m6\u001b[0m \u001b[0;34m-\u001b[0m\u001b[0mB\u001b[0m\u001b[0;34m\u001b[0m\u001b[0;34m\u001b[0m\u001b[0m\n\u001b[1;32m      3\u001b[0m \u001b[0;36m7\u001b[0m\u001b[0;34m,\u001b[0m\u001b[0;36m7\u001b[0m \u001b[0;34m-\u001b[0m\u001b[0mC\u001b[0m\u001b[0;34m\u001b[0m\u001b[0;34m\u001b[0m\u001b[0m\n\u001b[1;32m      4\u001b[0m \u001b[0;34m\u001b[0m\u001b[0m\n\u001b[1;32m      5\u001b[0m \u001b[0;34m\u001b[0m\u001b[0m\n",
            "\u001b[0;31mNameError\u001b[0m: name 'A' is not defined"
          ]
        }
      ]
    },
    {
      "cell_type": "markdown",
      "source": [
        "## Interesting: See how train accuracy of nearest neighbour is 1 i.e. 100%. Ponder and Explain."
      ],
      "metadata": {
        "id": "tW_I-YuhbQqA"
      }
    },
    {
      "cell_type": "markdown",
      "metadata": {
        "id": "7h08-9gJDtSy"
      },
      "source": [
        "For nearest neighbour, the train accuracy is always 1. The accuracy of the random classifier is close to 1/(number of classes) which is 0.1666 in our case.\n",
        "\n",
        "Let us predict the labels for our validation set and get the accuracy"
      ]
    },
    {
      "cell_type": "code",
      "metadata": {
        "id": "4h7bXoW_2H3v",
        "colab": {
          "base_uri": "https://localhost:8080/"
        },
        "outputId": "e70aabe5-fc26-4f01-83d3-f984f6734c53"
      },
      "source": [
        "valpred = NN(traindata, trainlabel, valdata)\n",
        "valAccuracy = Accuracy(vallabel, valpred)\n",
        "print(\"Validation accuracy using nearest neighbour is \", valAccuracy)\n",
        "\n",
        "valpred = RandomClassifier(traindata, trainlabel, valdata)\n",
        "valAccuracy = Accuracy(vallabel, valpred)\n",
        "print(\"Validation accuracy using random classifier is \", valAccuracy)"
      ],
      "execution_count": 18,
      "outputs": [
        {
          "output_type": "stream",
          "name": "stdout",
          "text": [
            "Validation accuracy using nearest neighbour is  0.34108527131782945\n",
            "Validation accuracy using random classifier is  0.1686046511627907\n"
          ]
        }
      ]
    },
    {
      "cell_type": "markdown",
      "metadata": {
        "id": "py9bLguFEjfg"
      },
      "source": [
        "Validation accuracy of nearest neighbour is considerably less than its train accuracy while the validation accuracy of random classifier is the same. However, the validation accuracy of nearest neighbour is twice that of the random classifier. \n",
        "\n",
        "Now let us try another random split and check the validation accuracy"
      ]
    },
    {
      "cell_type": "code",
      "metadata": {
        "id": "ujm3cyYzEntE",
        "colab": {
          "base_uri": "https://localhost:8080/"
        },
        "outputId": "02df8de3-e3b5-4a63-96bb-8c3314d632c7"
      },
      "source": [
        "traindata, trainlabel, valdata, vallabel = split(alltraindata, alltrainlabel, 75/100)\n",
        "valpred = NN(traindata, trainlabel, valdata)\n",
        "valAccuracy = Accuracy(vallabel, valpred)\n",
        "print(\"Validation accuracy of nearest neighbour is \", valAccuracy)"
      ],
      "execution_count": 19,
      "outputs": [
        {
          "output_type": "stream",
          "name": "stdout",
          "text": [
            "Validation accuracy of nearest neighbour is  0.3395999035912268\n"
          ]
        }
      ]
    },
    {
      "cell_type": "markdown",
      "metadata": {
        "id": "oSOx7U83EKie"
      },
      "source": [
        "You can run the above cell multiple times to try with different random splits. \n",
        "We notice that the accuracy is different for each run, but close together. \n",
        "\n",
        "Now let us compare it with the accuracy we get on the test dataset. "
      ]
    },
    {
      "cell_type": "code",
      "metadata": {
        "id": "PNEZ5ToYBEDW",
        "colab": {
          "base_uri": "https://localhost:8080/"
        },
        "outputId": "741e7361-6ebc-48a4-e999-10f7526d34fa"
      },
      "source": [
        "testpred = NN(alltraindata, alltrainlabel, testdata)\n",
        "testAccuracy = Accuracy(testlabel, testpred)\n",
        "print('Test accuracy is ', testAccuracy)"
      ],
      "execution_count": 20,
      "outputs": [
        {
          "output_type": "stream",
          "name": "stdout",
          "text": [
            "Test accuracy is  0.34917953667953666\n"
          ]
        }
      ]
    },
    {
      "cell_type": "markdown",
      "metadata": {
        "id": "w3dGD531K3gH"
      },
      "source": [
        "### Try it out for yourself and answer:\n",
        "1. How is the accuracy of the validation set affected if we increase the percentage of validation set? What happens when we reduce it?\n",
        "2. How does the size of the train and validation set affect how well we can predict the accuracy on the test set using the validation set?\n",
        "3. What do you think is a good percentage to reserve for the validation set so that thest two factors are balanced? \n",
        "\n",
        "Answer for both nearest neighbour and random classifier. You can note down the values for your experiments and plot a graph using  <a href=https://matplotlib.org/stable/gallery/lines_bars_and_markers/step_demo.html#sphx-glr-gallery-lines-bars-and-markers-step-demo-py>plt.plot<href>. Check also for extreme values for splits, like 99.9% or 0.1%"
      ]
    },
    {
      "cell_type": "markdown",
      "source": [
        "# **ANSWER FOR QUESTION 1**\n",
        "\n",
        "There is no effect for the accuracy if we increase the percentage of validation set.If we reduce the percentage of validation set we don't get the best accuracy."
      ],
      "metadata": {
        "id": "6SEVR5zJs62O"
      }
    },
    {
      "cell_type": "markdown",
      "source": [
        "# **ANSWER FOR QUESTION 2**\n",
        "\n",
        "The training set should not small.If the validation set is too small ,then the evaluation metrices like accuracy,precision,recall and F score will have large variance and will not lead to proper tanning of model."
      ],
      "metadata": {
        "id": "v7h7QHM_tBwZ"
      }
    },
    {
      "cell_type": "markdown",
      "source": [
        "# **ANSWER FOR QUESTION 3**\n",
        "\n",
        "In general putting 80% of the data in training set,10% in the validation set,and 10% in the test set is a good to start. Train set depends on factor such as structure of model,dimension of data."
      ],
      "metadata": {
        "id": "AQgJh9jptJ6i"
      }
    },
    {
      "cell_type": "markdown",
      "metadata": {
        "id": "PnYvkAZLQY7h"
      },
      "source": [
        "## Multiple Splits\n",
        "\n",
        "One way to get more accurate estimates for the test accuracy is by using <b>crossvalidation</b>. Here, we will try a simple version, where we do multiple train/val splits and take the average of validation accuracies as the test accuracy estimation. Here is a function for doing this. Note that this function will take a long time to execute. "
      ]
    },
    {
      "cell_type": "code",
      "source": [
        "100 --- 80 --- 75|5.   12345, 1234|5. 2345|1, 1345|2"
      ],
      "metadata": {
        "id": "k-HGXSovYQ1v",
        "outputId": "95c38450-f050-49ec-aa24-4a7d68640af4",
        "colab": {
          "base_uri": "https://localhost:8080/",
          "height": 134
        }
      },
      "execution_count": 21,
      "outputs": [
        {
          "output_type": "error",
          "ename": "SyntaxError",
          "evalue": "ignored",
          "traceback": [
            "\u001b[0;36m  File \u001b[0;32m\"<ipython-input-21-4c5e91ab20ef>\"\u001b[0;36m, line \u001b[0;32m1\u001b[0m\n\u001b[0;31m    100 --- 80 --- 75|5.   12345, 1234|5. 2345|1, 1345|2\u001b[0m\n\u001b[0m                               ^\u001b[0m\n\u001b[0;31mSyntaxError\u001b[0m\u001b[0;31m:\u001b[0m invalid syntax\n"
          ]
        }
      ]
    },
    {
      "cell_type": "code",
      "metadata": {
        "id": "E4nGCUQXBTzo"
      },
      "source": [
        "# you can use this function for random classifier also\n",
        "def AverageAccuracy(alldata, alllabel, splitpercent, iterations, classifier=NN):\n",
        "  accuracy = 0\n",
        "  for ii in range(iterations):\n",
        "    traindata, trainlabel, valdata, vallabel = split(alldata, alllabel, splitpercent)\n",
        "    valpred = classifier(traindata, trainlabel, valdata)\n",
        "    accuracy += Accuracy(vallabel, valpred)\n",
        "  return accuracy/iterations # average of all accuracies"
      ],
      "execution_count": 22,
      "outputs": []
    },
    {
      "cell_type": "code",
      "metadata": {
        "id": "H3qtNar7Bbik",
        "colab": {
          "base_uri": "https://localhost:8080/"
        },
        "outputId": "3d9af2c3-4707-41a0-9f39-4ac40b426de7"
      },
      "source": [
        "print('Average validation accuracy is ', AverageAccuracy(alltraindata, alltrainlabel, 75/100, 10, classifier=NN))\n",
        "testpred = NN(alltraindata, alltrainlabel, testdata)\n",
        "print('test accuracy is ',Accuracy(testlabel, testpred) )"
      ],
      "execution_count": 23,
      "outputs": [
        {
          "output_type": "stream",
          "name": "stdout",
          "text": [
            "Average validation accuracy is  0.33963886224608136\n",
            "test accuracy is  0.34917953667953666\n"
          ]
        }
      ]
    },
    {
      "cell_type": "markdown",
      "metadata": {
        "id": "33GIn4x5VH-d"
      },
      "source": [
        "This is a very simple way of doing cross-validation. There are many well-known algorithms for cross-validation, like k-fold cross-validation, leave-one-out etc. This will be covered in detail in a later module. For more information about cross-validation, check <a href=https://en.wikipedia.org/wiki/Cross-validation_(statistics)>Cross-validatioin (Wikipedia)</a>\n",
        "\n",
        "### Questions\n",
        "1. Does averaging the validation accuracy across multiple splits give more consistent results?\n",
        "2. Does it give more accurate estimate of test accuracy?\n",
        "3. What is the effect of the number of iterations on the estimate? Do we get a better estimate with higher iterations?\n",
        "4. Consider the results you got for the previous questions. Can we deal with a very small train dataset or validation dataset by increasing the iterations?\n"
      ]
    },
    {
      "cell_type": "markdown",
      "source": [
        "# **ANSWER FOR QUESTION 1**\n",
        "\n",
        "Yes,averaging the validation accuracy across multiple splits give more consistent results"
      ],
      "metadata": {
        "id": "m4vRNCHqtYis"
      }
    },
    {
      "cell_type": "markdown",
      "source": [
        "# **ANSWER FOR QUESTION 2**\n",
        "\n",
        "It's useful for building more accurate machine learning models and evaluating how will they work on an independent test dataset. Cross validation is easy to understand and implement making it go to method for comparing the predictive capabilities of different models and choosing best."
      ],
      "metadata": {
        "id": "f-KAdry-tc9K"
      }
    },
    {
      "cell_type": "markdown",
      "source": [
        "# **ANSWER FOR QUESTION 3**\n",
        "\n",
        "There is no effect of the number of iterations on estimate. Yes,We get a better estimate with higher iteration.\n",
        "\n"
      ],
      "metadata": {
        "id": "CJ6mluTntj4m"
      }
    },
    {
      "cell_type": "markdown",
      "source": [
        "# **ANSWER FOR QUESTION 4**\n",
        "\n",
        "Yes we can deal with a very small train dataset or validation dataset by increasing the iterations."
      ],
      "metadata": {
        "id": "em0maSb_tuWl"
      }
    },
    {
      "cell_type": "markdown",
      "source": [
        "## Now let us see how augmentation affects accuracy. We will pick components from what we studied in the last module"
      ],
      "metadata": {
        "id": "UUft9G1acwlB"
      }
    },
    {
      "cell_type": "markdown",
      "source": [
        "we will experiment with MNIST dataset\n"
      ],
      "metadata": {
        "id": "XtU3AfVDkkYM"
      }
    },
    {
      "cell_type": "code",
      "source": [
        "import numpy as np\n",
        "import matplotlib.pyplot as plt\n",
        "from keras.datasets import mnist\n",
        "# set randomseed\n",
        "rng = np.random.default_rng(seed=42)\n",
        "from sklearn.utils.extmath import cartesian\n",
        "from skimage.transform import rotate, AffineTransform, warp\n",
        "import math\n",
        "\n",
        "#loading the dataset\n",
        "(train_X, train_y), (test_X, test_y) = mnist.load_data()\n",
        "\n",
        "print(train_X[0].shape,train_y[0])\n",
        "\n"
      ],
      "metadata": {
        "colab": {
          "base_uri": "https://localhost:8080/"
        },
        "id": "47HIwFsMkebm",
        "outputId": "4c13f00e-ae3c-4420-dd6c-5a8c4d3fc094"
      },
      "execution_count": 24,
      "outputs": [
        {
          "output_type": "stream",
          "name": "stdout",
          "text": [
            "Downloading data from https://storage.googleapis.com/tensorflow/tf-keras-datasets/mnist.npz\n",
            "11490434/11490434 [==============================] - 0s 0us/step\n",
            "(28, 28) 5\n"
          ]
        }
      ]
    },
    {
      "cell_type": "code",
      "source": [
        "train_X = train_X/255\n",
        "test_X = test_X/255\n",
        "\n",
        "#train_X[0].shape, train_X[0]"
      ],
      "metadata": {
        "id": "WW6ZGBcTkyXB"
      },
      "execution_count": 25,
      "outputs": []
    },
    {
      "cell_type": "code",
      "source": [
        "train_X = train_X[::1200,:,:].copy() # subsample. Otherwise it will take too long!\n",
        "train_y = train_y[::1200].copy() # do the same to the labels"
      ],
      "metadata": {
        "id": "64ATS9mtk_mA"
      },
      "execution_count": 26,
      "outputs": []
    },
    {
      "cell_type": "code",
      "metadata": {
        "id": "1WileBUqC404"
      },
      "source": [
        "## Augmentation functions:\n",
        "\n",
        "\n",
        "\n",
        "def augRotate(sample, angleconstraint):\n",
        "  if angleconstraint==0:\n",
        "    return sample\n",
        "\n",
        "  print(\"shape of sample before is:\", sample.shape)\n",
        "  print(\"len(sample.shape)\", len(sample.shape))\n",
        "  if len(sample.shape)==2:\n",
        "    sample = np.expand_dims(sample, 0)  # make sure the sample is 3 dimensional\n",
        "    print(\"shape of sample is:\", sample.shape)\n",
        "  angle = rng.random(len(sample)) # generate random numbers for angles\n",
        "  print(\"angle is:\", angle)\n",
        "  angle = (angle-0.5)*angleconstraint # make the random angle constrained\n",
        "  print(\"angle with constraint is:\", angle)\n",
        "  nsample = sample.copy() # preallocate the augmented array to make it faster\n",
        "  for ii in range(len(sample)):\n",
        "    nsample[ii] = rotate(sample[ii], angle[ii])\n",
        "  return np.squeeze(nsample) # take care if the input had only one sample.\n",
        "\n",
        "\n",
        "def NN1(traindata, trainlabel, query):\n",
        "  diff  = traindata - query  # find the difference between features. Numpy automatically takes care of the size here \n",
        "  sq = diff*diff # square the differences\n",
        "  dist = sq.sum(1) # add up the squares\n",
        "  label = trainlabel[np.argmin(dist)] # our predicted label is the label of the training data which has the least distance from the query\n",
        "  return label\n",
        "\n",
        "def NN(traindata, trainlabel, testdata):\n",
        "  # we will run nearest neighbour for each sample in the test data \n",
        "  # and collect the predicted classes in an array using list comprehension\n",
        "  traindata = traindata.reshape(-1, 28*28)\n",
        "  testdata = testdata.reshape(-1,28*28)\n",
        "  predlabel = np.array([NN1(traindata, trainlabel, i) for i in testdata])\n",
        "  return predlabel\n",
        "\n",
        "def Accuracy(gtlabel, predlabel):\n",
        "  assert len(gtlabel)==len(predlabel), \"Length of the groundtruth labels and predicted labels should be the same\"\n",
        "  correct = (gtlabel==predlabel).sum() # count the number of times the groundtruth label is equal to the predicted label.\n",
        "  return correct/len(gtlabel)"
      ],
      "execution_count": 27,
      "outputs": []
    },
    {
      "cell_type": "code",
      "source": [
        "def shear(sample, amount):\n",
        "  tform = AffineTransform(shear = amount) # create the shear transform\n",
        "  img = warp(sample, tform) # apply the shear\n",
        "  # this makes the digit off-center. Since all the images in the test set are centralized, we will do the same here\n",
        "  col = img.sum(0).nonzero()[0]\n",
        "  row = img.sum(1).nonzero()[0]\n",
        "  if len(col)>0 and len(row)>0:\n",
        "    xshift = int(sample.shape[0]/2 - (row[0]+row[-1])/2)\n",
        "    yshift = int(sample.shape[1]/2 - (col[0]+col[-1])/2)\n",
        "    img = np.roll(img, (xshift, yshift),(0,1))\n",
        "  return img\n",
        "\n",
        "def augShear(sample, shearconstraint):\n",
        "  if shearconstraint==0:\n",
        "    return sample\n",
        "  if len(sample.shape)==2:\n",
        "    sample = np.expand_dims(sample, 0)  # make sure the sample is 3 dimensional\n",
        "  amt = rng.random(len(sample)) # generate random numbers for shear\n",
        "  amt = (amt-0.5)*shearconstraint # make the random shear constrained\n",
        "  nsample = sample.copy() # preallocate the augmented array to make it faster\n",
        "  for ii in range(len(sample)):\n",
        "    nsample[ii] = shear(sample[ii], amt[ii])\n",
        "  return np.squeeze(nsample) # take care if the input had only one sample.\n",
        "\n",
        "\n"
      ],
      "metadata": {
        "id": "BIsZ_Q5LqWEs"
      },
      "execution_count": 28,
      "outputs": []
    },
    {
      "cell_type": "markdown",
      "source": [
        "In this lab, we will use the image pixels themselves as features, instead of extracting features. Each image has 28*28 pixels, so we will flatten them to 784 pixels to use as features. Note that this is very compute intensive and will take a long time.\n",
        "\n",
        "Let us check the baseline accuracy on the test set without any augmentations. We hope that adding augmentations will help us to get better results."
      ],
      "metadata": {
        "id": "vAFpOzQFj-2r"
      }
    },
    {
      "cell_type": "code",
      "source": [
        "testpred = NN(train_X, train_y, test_X)\n",
        "print('Baseline accuracy without augmentation is ', Accuracy(test_y, testpred))"
      ],
      "metadata": {
        "colab": {
          "base_uri": "https://localhost:8080/"
        },
        "id": "dPNdNyFVj4pX",
        "outputId": "6d69814a-f506-40b1-d729-ab9e6a7487ed"
      },
      "execution_count": 29,
      "outputs": [
        {
          "output_type": "stream",
          "name": "stdout",
          "text": [
            "Baseline accuracy without augmentation is  0.6472\n"
          ]
        }
      ]
    },
    {
      "cell_type": "markdown",
      "source": [
        "Let us try to improve this accuracy using augmentations. When we create augmentations, we have to make sure that the changes reflect what will naturally occur in the dataset. For example, we should not add colour to our samples as an augmentation because they do not naturally occur. We should not also flip the images in MNIST, because flipped images have different meanings for digits."
      ],
      "metadata": {
        "id": "MckdgpPflSYh"
      }
    },
    {
      "cell_type": "markdown",
      "source": [
        "Let us augment the whole dataset and see if this improves the test accuracy"
      ],
      "metadata": {
        "id": "7aWfHHggmqu7"
      }
    },
    {
      "cell_type": "code",
      "source": [
        "# hyperparameters\n",
        "angleconstraint = 60\n",
        "naugmentations = 5\n",
        "\n",
        "# augment\n",
        "augdata = train_X # we include the original images also in the augmented dataset\n",
        "auglabel = train_y\n",
        "for ii in range(naugmentations):\n",
        "  augdata = np.concatenate((augdata, augRotate(train_X, angleconstraint))) # concatenate the augmented data to the set\n",
        "  auglabel = np.concatenate((auglabel, train_y))  # the labels don't change when we augment\n",
        "\n",
        "# check the test accuracy\n",
        "testpred = NN(augdata, auglabel, test_X)\n",
        "print('Accuracy after rotation augmentation is ', Accuracy(test_y, testpred))"
      ],
      "metadata": {
        "colab": {
          "base_uri": "https://localhost:8080/"
        },
        "id": "Kdn0TZ_tlMg3",
        "outputId": "8229f01c-ba3f-4f9f-e0fa-720237eab8f7"
      },
      "execution_count": 30,
      "outputs": [
        {
          "output_type": "stream",
          "name": "stdout",
          "text": [
            "shape of sample before is: (50, 28, 28)\n",
            "len(sample.shape) 3\n",
            "angle is: [0.77395605 0.43887844 0.85859792 0.69736803 0.09417735 0.97562235\n",
            " 0.7611397  0.78606431 0.12811363 0.45038594 0.37079802 0.92676499\n",
            " 0.64386512 0.82276161 0.4434142  0.22723872 0.55458479 0.06381726\n",
            " 0.82763117 0.6316644  0.75808774 0.35452597 0.97069802 0.89312112\n",
            " 0.7783835  0.19463871 0.466721   0.04380377 0.15428949 0.68304895\n",
            " 0.74476216 0.96750973 0.32582536 0.37045971 0.46955581 0.18947136\n",
            " 0.12992151 0.47570493 0.22690935 0.66981399 0.43715192 0.8326782\n",
            " 0.7002651  0.31236664 0.8322598  0.80476436 0.38747838 0.2883281\n",
            " 0.6824955  0.13975248]\n",
            "angle with constraint is: [ 16.43736291  -3.66729361  21.51587519  11.84208174 -24.34935913\n",
            "  28.5373411   15.66838212  17.16385832 -22.31318204  -2.97684373\n",
            "  -7.75211855  25.60589933   8.6319072   19.3656968   -3.39514807\n",
            " -16.36567669   3.27508722 -26.17096463  19.65787032   7.89986395\n",
            "  15.48526441  -8.72844191  28.24188146  23.58726728  16.70300982\n",
            " -18.32167753  -1.99673978 -27.37177405 -20.74263048  10.98293719\n",
            "  14.68572935  28.05058395 -10.45047851  -7.77241764  -1.82665132\n",
            " -18.63171845 -22.20470968  -1.45770443 -16.38543906  10.18883968\n",
            "  -3.77088487  19.96069176  12.01590612 -11.25800152  19.93558808\n",
            "  18.28586145  -6.75129726 -12.70031376  10.94973024 -21.61485098]\n",
            "shape of sample before is: (50, 28, 28)\n",
            "len(sample.shape) 3\n",
            "angle is: [0.1999082  0.00736227 0.78692438 0.66485086 0.70516538 0.78072903\n",
            " 0.45891578 0.5687412  0.139797   0.11453007 0.66840296 0.47109621\n",
            " 0.56523611 0.76499886 0.63471832 0.5535794  0.55920716 0.3039501\n",
            " 0.03081783 0.43671739 0.21458467 0.40852864 0.85340307 0.23393949\n",
            " 0.05830274 0.28138389 0.29359376 0.66191651 0.55703215 0.78389821\n",
            " 0.66431354 0.40638686 0.81402038 0.16697292 0.02271207 0.09004786\n",
            " 0.72235935 0.46187723 0.16127178 0.50104478 0.1523121  0.69632038\n",
            " 0.44615628 0.38102123 0.30151209 0.63028259 0.36181261 0.08764992\n",
            " 0.1180059  0.96189766]\n",
            "angle with constraint is: [-18.00550785 -29.55826381  17.21546265   9.8910514   12.30992272\n",
            "  16.84374186  -2.46505347   4.12447176 -21.61218011 -23.12819559\n",
            "  10.10417771  -1.73422763   3.91416639  15.89993144   8.0830992\n",
            "   3.21476404   3.55242964 -11.76299412 -28.15092993  -3.79695665\n",
            " -17.12491963  -5.48828138  21.2041844  -15.96363085 -26.5018355\n",
            " -13.11696648 -12.38437453   9.71499088   3.42192914  17.03389255\n",
            "   9.85881242  -5.61678831  18.84122308 -19.98162481 -28.63727561\n",
            " -24.59712835  13.34156104  -2.28736618 -20.32369326   0.06268651\n",
            " -20.86127384  11.7792225   -3.23062347  -7.13872643 -11.90927465\n",
            "   7.81695559  -8.29124337 -24.74100484 -22.91964587  27.71385987]\n",
            "shape of sample before is: (50, 28, 28)\n",
            "len(sample.shape) 3\n",
            "angle is: [0.90858069 0.69970713 0.26586996 0.96917638 0.7787509  0.71689019\n",
            " 0.4493615  0.27224156 0.09639096 0.9026024  0.45577629 0.20236336\n",
            " 0.30595662 0.57921957 0.17677278 0.85661428 0.75851953 0.71946296\n",
            " 0.43209304 0.62730884 0.58409797 0.6498466  0.08444432 0.4158074\n",
            " 0.04161417 0.49399082 0.32986121 0.14452419 0.10340297 0.58764457\n",
            " 0.17059297 0.92512012 0.58106114 0.3468698  0.59091549 0.02280387\n",
            " 0.95855921 0.48230344 0.78273523 0.08273    0.48665833 0.49070699\n",
            " 0.93782645 0.57172805 0.4734894  0.26697566 0.331569   0.5206724\n",
            " 0.43891146 0.02161208]\n",
            "angle with constraint is: [ 24.51484144  11.98242803 -14.04780231  28.15058264  16.72505424\n",
            "  13.01341135  -3.03830987 -13.66550629 -24.21654227  24.15614379\n",
            "  -2.65342261 -17.85819811 -11.64260255   4.75317414 -19.39363302\n",
            "  21.39685705  15.51117179  13.16777736  -4.07441761   7.63853044\n",
            "   5.04587813   8.99079609 -24.93334073  -5.05155587 -27.50314957\n",
            "  -0.36055085 -10.20832726 -21.32854867 -23.79582194   5.25867433\n",
            " -19.76442189  25.5072071    4.86366838  -9.18781173   5.45492949\n",
            " -28.63176774  27.51355279  -1.06179378  16.96411364 -25.0362\n",
            "  -0.80050015  -0.55758034  26.2695873    4.30368314  -1.59063594\n",
            " -13.98146021 -10.10586016   1.24034415  -3.66531238 -28.70327521]\n",
            "shape of sample before is: (50, 28, 28)\n",
            "len(sample.shape) 3\n",
            "angle is: [0.82629192 0.89616077 0.14024909 0.55403614 0.10857574 0.67224009\n",
            " 0.28123378 0.65942263 0.72699461 0.76864749 0.10774095 0.91601185\n",
            " 0.23021399 0.03741256 0.55485247 0.37092228 0.82978974 0.80825147\n",
            " 0.31713889 0.9528994  0.29091784 0.51505713 0.25596509 0.93604357\n",
            " 0.16460782 0.04491062 0.43509706 0.99237556 0.89167727 0.74860802\n",
            " 0.89079249 0.89344664 0.51885836 0.31592905 0.77201243 0.66166126\n",
            " 0.37365773 0.09446667 0.74678961 0.26246052 0.93681315 0.24097058\n",
            " 0.12275793 0.83111267 0.15328432 0.17926831 0.59938279 0.87456204\n",
            " 0.19643467 0.31032367]\n",
            "angle with constraint is: [ 19.57751545  23.76964631 -21.58505466   3.24216861 -23.48545553\n",
            "  10.33440558 -13.12597297   9.56535808  13.61967686  16.11884952\n",
            " -23.53554324  24.96071071 -16.18716055 -27.75524663   3.29114816\n",
            "  -7.74466297  19.78738459  18.49508832 -10.97166643  27.1739637\n",
            " -12.54492971   0.90342775 -14.64209457  26.1626142  -20.12353095\n",
            " -27.30536284  -3.8941764   29.54253384  23.50063598  14.91648117\n",
            "  23.44754945  23.60679838   1.13150162 -11.04425689  16.32074593\n",
            "   9.69967579  -7.58053627 -24.33199992  14.80737668 -14.25236904\n",
            "  26.20878903 -15.5417655  -22.63452406  19.86676033 -20.802941\n",
            " -19.24390151   5.96296749  22.47372245 -18.21392006 -11.38057963]\n",
            "shape of sample before is: (50, 28, 28)\n",
            "len(sample.shape) 3\n",
            "angle is: [0.77740484 0.97182643 0.50074119 0.1438975  0.01393629 0.22965603\n",
            " 0.13182222 0.67765867 0.1218325  0.50632993 0.69426244 0.58111661\n",
            " 0.19977565 0.80412453 0.71540713 0.738984   0.13105775 0.1237538\n",
            " 0.92756255 0.39757819 0.30094869 0.48858405 0.66286421 0.95562326\n",
            " 0.28644623 0.92480843 0.02485949 0.55519804 0.63397511 0.1058974\n",
            " 0.1403396  0.41911432 0.96623191 0.59604255 0.93302322 0.80436092\n",
            " 0.4673816  0.78476345 0.01783678 0.109144   0.82942861 0.79681709\n",
            " 0.23264074 0.53076959 0.60601582 0.86773895 0.60310716 0.41257157\n",
            " 0.37418404 0.42588209]\n",
            "angle with constraint is: [ 16.64429029  28.30958556   0.04447117 -21.36614985 -29.16382274\n",
            " -16.2206382  -22.09066693  10.65952042 -22.69004972   0.3797959\n",
            "  11.65574614   4.86699655 -18.0134609   18.24747157  12.92442778\n",
            "  14.33904023 -22.13653491 -22.57477178  25.65375306  -6.14530837\n",
            " -11.94307849  -0.68495728   9.77185277  27.33739542 -12.81322639\n",
            "  25.48850576 -28.50843052   3.31188254   8.0385067  -23.64615577\n",
            " -21.57962418  -4.85314084  27.97391473   5.76255319  25.9813933\n",
            "  18.26165494  -1.95710391  17.08580696 -28.92979296 -23.45136019\n",
            "  19.76571689  17.8090253  -16.04155548   1.84617544   6.36094924\n",
            "  22.06433723   6.18642944  -5.24570584  -7.5489574   -4.44707482]\n",
            "Accuracy after rotation augmentation is  0.6742\n"
          ]
        }
      ]
    },
    {
      "cell_type": "markdown",
      "source": [
        "The angle constraint is a hyperparameter which we have to tune using a validation set. (Here we are not doing that for time constraints). Let us try a grid search to find the best angle constraint."
      ],
      "metadata": {
        "id": "R6vwKYxNnjvS"
      }
    },
    {
      "cell_type": "code",
      "source": [
        "angleconstraints = [0,10,20,30,40,50,60,70,80,90] # the values we want to test\n",
        "accuracies = np.zeros(len(angleconstraints), dtype=np.float) # we will save the values here\n",
        "\n",
        "for ii in range(len(angleconstraints)):\n",
        "  # create the augmented dataset\n",
        "  augdata = train_X # we include the original images also in the augmented dataset\n",
        "  auglabel = train_y\n",
        "  for jj in range(naugmentations):\n",
        "    augdata = np.concatenate((augdata, augRotate(train_X, angleconstraints[ii]))) # concatenate the augmented data to the set\n",
        "    auglabel = np.concatenate((auglabel, train_y))  # the labels don't change when we augment\n",
        "\n",
        "  # check the test accuracy\n",
        "  testpred = NN(augdata, auglabel, test_X)\n",
        "  accuracies[ii] = Accuracy(test_y, testpred)\n",
        "  print('Accuracy after rotation augmentation constrained by ',angleconstraints[ii], ' is ', accuracies[ii], flush=True)"
      ],
      "metadata": {
        "colab": {
          "base_uri": "https://localhost:8080/"
        },
        "id": "2TuE7cTCnZ9g",
        "outputId": "8f7e291c-708b-4285-c9e9-f5288bac95f3"
      },
      "execution_count": 35,
      "outputs": [
        {
          "output_type": "stream",
          "name": "stderr",
          "text": [
            "/usr/local/lib/python3.7/dist-packages/ipykernel_launcher.py:2: DeprecationWarning: `np.float` is a deprecated alias for the builtin `float`. To silence this warning, use `float` by itself. Doing this will not modify any behavior and is safe. If you specifically wanted the numpy scalar type, use `np.float64` here.\n",
            "Deprecated in NumPy 1.20; for more details and guidance: https://numpy.org/devdocs/release/1.20.0-notes.html#deprecations\n",
            "  \n"
          ]
        },
        {
          "output_type": "stream",
          "name": "stdout",
          "text": [
            "Accuracy after rotation augmentation constrained by  0  is  0.6472\n",
            "shape of sample before is: (50, 28, 28)\n",
            "len(sample.shape) 3\n",
            "angle is: [0.0338778  0.68301496 0.95049627 0.82915049 0.27719814 0.05332508\n",
            " 0.94035141 0.93706272 0.53241532 0.64231741 0.46260006 0.41976537\n",
            " 0.11944844 0.0967529  0.23273215 0.83664075 0.1458323  0.22669865\n",
            " 0.54861406 0.21513122 0.16320668 0.56331624 0.36809327 0.62615929\n",
            " 0.91220534 0.15099313 0.91343366 0.90248997 0.82908758 0.63128592\n",
            " 0.62014666 0.63921266 0.69049555 0.0164822  0.95809258 0.58560376\n",
            " 0.78146584 0.37728184 0.01239721 0.50973466 0.50719012 0.43698929\n",
            " 0.33971705 0.24982609 0.52754487 0.37527814 0.96993188 0.17292731\n",
            " 0.31966557 0.29396047]\n",
            "angle with constraint is: [-4.66122205  1.83014956  4.5049627   3.2915049  -2.2280186  -4.46674915\n",
            "  4.40351413  4.37062725  0.3241532   1.42317412 -0.37399939 -0.80234633\n",
            " -3.80551564 -4.03247102 -2.67267853  3.36640746 -3.54167699 -2.73301348\n",
            "  0.48614059 -2.84868782 -3.36793315  0.63316242 -1.31906729  1.26159286\n",
            "  4.1220534  -3.49006869  4.1343366   4.02489967  3.29087583  1.31285917\n",
            "  1.20146657  1.3921266   1.90495551 -4.83517799  4.58092579  0.85603761\n",
            "  2.81465839 -1.22718161 -4.87602786  0.0973466   0.07190119 -0.63010712\n",
            " -1.60282946 -2.50173912  0.27544874 -1.2472186   4.69931883 -3.27072692\n",
            " -1.80334432 -2.06039529]\n",
            "shape of sample before is: (50, 28, 28)\n",
            "len(sample.shape) 3\n",
            "angle is: [0.54330918 0.49928026 0.64374047 0.95000177 0.28522109 0.69277157\n",
            " 0.0250402  0.26238847 0.46371973 0.03099479 0.61766946 0.67831061\n",
            " 0.74673171 0.5165745  0.60394466 0.39606525 0.04125303 0.09995186\n",
            " 0.65499592 0.9955553  0.01580324 0.5575835  0.75100875 0.82677483\n",
            " 0.5452049  0.61991598 0.69672495 0.85896625 0.12228954 0.9261822\n",
            " 0.0260174  0.83619975 0.07674043 0.19462821 0.00389415 0.44525671\n",
            " 0.33435923 0.16599291 0.45109016 0.40237088 0.76766103 0.89313031\n",
            " 0.65256725 0.12441039 0.29539079 0.9133183  0.08873449 0.40685584\n",
            " 0.94250462 0.95066484]\n",
            "angle with constraint is: [ 0.43309176 -0.00719743  1.43740465  4.50001771 -2.14778915  1.92771569\n",
            " -4.74959797 -2.37611527 -0.36280272 -4.69005212  1.17669461  1.78310608\n",
            "  2.46731715  0.16574505  1.03944665 -1.03934749 -4.58746967 -4.00048144\n",
            "  1.54995924  4.955553   -4.84196761  0.57583497  2.51008753  3.26774828\n",
            "  0.45204901  1.1991598   1.96724945  3.5896625  -3.77710463  4.26182196\n",
            " -4.73982596  3.36199751 -4.23259573 -3.05371788 -4.96105854 -0.54743294\n",
            " -1.65640773 -3.34007089 -0.48909839 -0.97629117  2.67661033  3.93130306\n",
            "  1.52567252 -3.75589611 -2.04609205  4.13318297 -4.11265507 -0.93144161\n",
            "  4.42504619  4.50664841]\n",
            "shape of sample before is: (50, 28, 28)\n",
            "len(sample.shape) 3\n",
            "angle is: [0.41120318 0.66739689 0.4567456  0.75346054 0.03158133 0.14415715\n",
            " 0.6141988  0.23255226 0.6660523  0.35122293 0.88664556 0.81925939\n",
            " 0.4928378  0.77289509 0.27113789 0.49425978 0.19748205 0.86088617\n",
            " 0.82306762 0.90214967 0.87747698 0.95959626 0.22833623 0.93182429\n",
            " 0.57121319 0.42249508 0.5603739  0.34260236 0.28855301 0.24131434\n",
            " 0.08242799 0.4965649  0.88776168 0.63015197 0.52097563 0.42859292\n",
            " 0.46440163 0.20927735 0.82293588 0.19838296 0.71662276 0.75998501\n",
            " 0.57486904 0.86292637 0.29105035 0.88161722 0.72941046 0.79874983\n",
            " 0.66457971 0.84634302]\n",
            "angle with constraint is: [-0.88796823  1.67396888 -0.43254402  2.53460539 -4.68418669 -3.55842851\n",
            "  1.14198804 -2.67447738  1.66052299 -1.48777073  3.86645558  3.19259386\n",
            " -0.071622    2.72895087 -2.28862114 -0.05740223 -3.02517948  3.60886169\n",
            "  3.23067617  4.02149668  3.77476981  4.59596262 -2.71663768  4.31824291\n",
            "  0.71213191 -0.77504916  0.60373896 -1.57397643 -2.11446993 -2.58685662\n",
            " -4.17572011 -0.03435103  3.87761676  1.30151969  0.20975633 -0.71407082\n",
            " -0.35598374 -2.90722652  3.22935877 -3.01617037  2.16622757  2.59985011\n",
            "  0.74869042  3.62926375 -2.08949648  3.81617221  2.2941046   2.98749828\n",
            "  1.6457971   3.46343017]\n",
            "shape of sample before is: (50, 28, 28)\n",
            "len(sample.shape) 3\n",
            "angle is: [0.99309886 0.42016285 0.81391568 0.74457976 0.45287017 0.926949\n",
            " 0.39442593 0.56546592 0.10594236 0.22577519 0.84069617 0.39655272\n",
            " 0.39408409 0.24598102 0.49161033 0.80581696 0.89516412 0.07011443\n",
            " 0.57482073 0.46727337 0.61428185 0.44727569 0.39864482 0.47188071\n",
            " 0.58199913 0.50098321 0.47214445 0.81783531 0.74564799 0.34137849\n",
            " 0.80057712 0.85365067 0.15349221 0.58268246 0.28531199 0.73917232\n",
            " 0.23878533 0.67140352 0.25512466 0.51114376 0.94864647 0.38130754\n",
            " 0.87573849 0.98694458 0.87485085 0.16586603 0.81965822 0.0321494\n",
            " 0.39330188 0.87073337]\n",
            "angle with constraint is: [ 4.93098863 -0.79837145  3.13915684  2.4457976  -0.47129834  4.26949\n",
            " -1.0557407   0.65465916 -3.94057643 -2.74224806  3.40696171 -1.03447277\n",
            " -1.05915911 -2.54018982 -0.08389666  3.05816961  3.95164118 -4.29885568\n",
            "  0.74820731 -0.32726632  1.1428185  -0.52724313 -1.01355179 -0.28119288\n",
            "  0.81999129  0.00983211 -0.27855549  3.1783531   2.45647991 -1.58621506\n",
            "  3.00577118  3.53650669 -3.46507795  0.82682462 -2.14688006  2.39172322\n",
            " -2.61214671  1.71403524 -2.44875344  0.11143763  4.48646468 -1.18692462\n",
            "  3.75738486  4.86944581  3.74850849 -3.3413397   3.1965822  -4.67850605\n",
            " -1.06698116  3.70733373]\n",
            "shape of sample before is: (50, 28, 28)\n",
            "len(sample.shape) 3\n",
            "angle is: [0.68875221 0.53274043 0.38786403 0.81229695 0.7095584  0.46840532\n",
            " 0.89248434 0.22994802 0.17039151 0.64280376 0.97199434 0.24725657\n",
            " 0.24967038 0.13949885 0.86056356 0.22639754 0.50317853 0.99087248\n",
            " 0.0121409  0.55648609 0.51228904 0.80744738 0.35528154 0.41034136\n",
            " 0.16793798 0.74081523 0.78470891 0.13666332 0.39345707 0.892905\n",
            " 0.00270727 0.29875907 0.55504229 0.33409386 0.27204519 0.46003748\n",
            " 0.18152311 0.52962524 0.70669592 0.57529495 0.09310933 0.84440861\n",
            " 0.17497784 0.764812   0.36056511 0.78276135 0.2062729  0.1866621\n",
            " 0.49702585 0.03293601]\n",
            "angle with constraint is: [ 1.88752213  0.32740427 -1.12135975  3.12296946  2.09558404 -0.3159468\n",
            "  3.92484337 -2.70051982 -3.29608491  1.42803764  4.71994343 -2.52743427\n",
            " -2.50329621 -3.60501152  3.60563555 -2.7360246   0.03178527  4.90872478\n",
            " -4.87859099  0.56486091  0.12289043  3.07447376 -1.4471846  -0.89658641\n",
            " -3.32062019  2.40815232  2.84708909 -3.63336679 -1.06542926  3.92904995\n",
            " -4.97292726 -2.01240929  0.55042285 -1.6590614  -2.27954811 -0.39962515\n",
            " -3.18476892  0.29625241  2.06695921  0.75294953 -4.06890669  3.44408614\n",
            " -3.25022163  2.64812001 -1.39434889  2.82761348 -2.93727097 -3.13337896\n",
            " -0.02974154 -4.67063985]\n",
            "Accuracy after rotation augmentation constrained by  10  is  0.6693\n",
            "shape of sample before is: (50, 28, 28)\n",
            "len(sample.shape) 3\n",
            "angle is: [0.22529734 0.72401225 0.83738348 0.08078536 0.88207771 0.7975172\n",
            " 0.8696843  0.69842855 0.67415307 0.52509323 0.65278722 0.91910966\n",
            " 0.100522   0.31576448 0.07245497 0.94480517 0.44526547 0.67534447\n",
            " 0.84112006 0.99100025 0.16178246 0.79951261 0.8874229  0.04887538\n",
            " 0.75409056 0.35472532 0.64859679 0.5140482  0.25974225 0.13522136\n",
            " 0.11694723 0.10332286 0.63779004 0.35141085 0.21663344 0.69188509\n",
            " 0.68684957 0.53916829 0.93495782 0.38541423 0.83586297 0.07513941\n",
            " 0.73983109 0.98844741 0.84659822 0.57966472 0.62676606 0.35328955\n",
            " 0.67948522 0.77039538]\n",
            "angle with constraint is: [-5.49405322  4.48024504  6.74766957 -8.38429272  7.64155419  5.95034408\n",
            "  7.39368591  3.96857109  3.48306135  0.50186467  3.05574449  8.38219329\n",
            " -7.98955997 -3.68471044 -8.55090053  8.89610344 -1.09469068  3.50688941\n",
            "  6.82240129  9.82000496 -6.76435084  5.99025211  7.74845796 -9.02249246\n",
            "  5.0818112  -2.90549358  2.97193583  0.28096392 -4.80515496 -7.29557276\n",
            " -7.66105534 -7.93354285  2.7558008  -2.97178297 -5.66733124  3.83770185\n",
            "  3.73699132  0.78336585  8.69915634 -2.29171537  6.71725943 -8.49721184\n",
            "  4.79662188  9.76894828  6.93196433  1.59329439  2.53532129 -2.93420901\n",
            "  3.58970437  5.40790766]\n",
            "shape of sample before is: (50, 28, 28)\n",
            "len(sample.shape) 3\n",
            "angle is: [0.99822848 0.49246292 0.06130407 0.59585795 0.11902415 0.24476504\n",
            " 0.32877991 0.73102987 0.18380812 0.16575295 0.04496424 0.87323994\n",
            " 0.69350542 0.03994647 0.02829231 0.5586743  0.2825344  0.59672635\n",
            " 0.43460418 0.92331256 0.28780901 0.67914537 0.05405431 0.95586053\n",
            " 0.98075747 0.73907463 0.46521247 0.21999344 0.81251634 0.7363541\n",
            " 0.22195404 0.45121529 0.46279894 0.82641055 0.68384468 0.64316754\n",
            " 0.64982742 0.27047008 0.37171126 0.04566229 0.78694114 0.43299822\n",
            " 0.43823836 0.24535626 0.20942728 0.58782193 0.23255302 0.06420885\n",
            " 0.76750742 0.37646943]\n",
            "angle with constraint is: [ 9.96456962 -0.15074166 -8.77391868  1.91715901 -7.619517   -5.10469913\n",
            " -3.42440177  4.62059746 -6.32383752 -6.68494106 -9.10071515  7.46479873\n",
            "  3.87010849 -9.20107069 -9.43415389  1.17348593 -4.34931197  1.93452701\n",
            " -1.30791649  8.46625125 -4.2438197   3.58290737 -8.91891377  9.11721068\n",
            "  9.61514936  4.78149258 -0.69575057 -5.60013121  6.2503268   4.72708194\n",
            " -5.56091921 -0.97569412 -0.74402124  6.528211    3.67689369  2.86335087\n",
            "  2.99654845 -4.59059841 -2.5657748  -9.08675429  5.73882272 -1.3400357\n",
            " -1.23523286 -5.0928747  -5.81145437  1.75643859 -5.3489397  -8.71582297\n",
            "  5.35014832 -2.47061131]\n",
            "shape of sample before is: (50, 28, 28)\n",
            "len(sample.shape) 3\n",
            "angle is: [0.38023558 0.43131828 0.81504482 0.3208369  0.75803621 0.93954484\n",
            " 0.6608682  0.43168108 0.74778972 0.45789737 0.41442727 0.52528316\n",
            " 0.31772233 0.10425022 0.41485201 0.12385688 0.41044147 0.55693372\n",
            " 0.93071118 0.03622233 0.62145841 0.45773519 0.02026113 0.24954818\n",
            " 0.11848525 0.21679415 0.27457024 0.40130634 0.52903939 0.00098999\n",
            " 0.16186936 0.09356639 0.5496734  0.32907487 0.54839774 0.2218233\n",
            " 0.02422935 0.9413669  0.10830812 0.12685875 0.14654683 0.98127652\n",
            " 0.61766024 0.61028995 0.9866982  0.08843877 0.97450089 0.20401315\n",
            " 0.6230715  0.42008357]\n",
            "angle with constraint is: [-2.39528832 -1.37363437  6.30089647 -3.58326208  5.16072423  8.79089682\n",
            "  3.21736392 -1.36637838  4.95579446 -0.8420526  -1.71145458  0.50566327\n",
            " -3.6455533  -7.91499567 -1.70295989 -7.52286238 -1.79117053  1.13867442\n",
            "  8.61422362 -9.27555338  2.42916813 -0.84529627 -9.59477744 -5.00903648\n",
            " -7.63029495 -5.66411709 -4.50859513 -1.97387329  0.58078787 -9.98020012\n",
            " -6.76261279 -8.12867229  0.99346799 -3.41850259  0.96795472 -5.56353396\n",
            " -9.51541292  8.82733803 -7.83383758 -7.46282504 -7.06906347  9.62553048\n",
            "  2.3532048   2.20579903  9.73396403 -8.23122461  9.49001785 -5.91973707\n",
            "  2.46143007 -1.59832869]\n",
            "shape of sample before is: (50, 28, 28)\n",
            "len(sample.shape) 3\n",
            "angle is: [0.38395181 0.93124333 0.14922773 0.99706901 0.37912506 0.6487749\n",
            " 0.96790673 0.05760105 0.92286436 0.56781139 0.70439688 0.14918418\n",
            " 0.53338743 0.67351371 0.45624731 0.15498518 0.24411908 0.85439279\n",
            " 0.03447099 0.70886208 0.99939004 0.007483   0.16104568 0.6741443\n",
            " 0.05999083 0.58978998 0.6840001  0.58814635 0.3651847  0.6972823\n",
            " 0.59429443 0.20763717 0.56313554 0.88190722 0.66683329 0.47179151\n",
            " 0.3215841  0.08588621 0.24462713 0.01118675 0.98662592 0.22248225\n",
            " 0.81487594 0.16864488 0.28360115 0.41827732 0.32440566 0.79835081\n",
            " 0.95769341 0.87529448]\n",
            "angle with constraint is: [-2.32096373  8.62486657 -7.01544543  9.94138022 -2.41749878  2.97549808\n",
            "  9.35813463 -8.84797899  8.45728726  1.35622771  4.08793758 -7.01631632\n",
            "  0.66774862  3.47027429 -0.87505385 -6.90029644 -5.1176185   7.08785582\n",
            " -9.31058014  4.17724157  9.98780073 -9.85034008 -6.77908634  3.48288602\n",
            " -8.80018331  1.79579968  3.68000207  1.76292696 -2.69630594  3.94564592\n",
            "  1.88588856 -5.84725656  1.26271087  7.63814434  3.33666571 -0.56416985\n",
            " -3.56831794 -8.28227581 -5.10745734 -9.77626494  9.73251835 -5.55035496\n",
            "  6.29751885 -6.62710236 -4.32797701 -1.63445362 -3.51188672  5.96701626\n",
            "  9.15386816  7.50588967]\n",
            "shape of sample before is: (50, 28, 28)\n",
            "len(sample.shape) 3\n",
            "angle is: [0.15357787 0.77668868 0.14794691 0.91338111 0.51787858 0.33638109\n",
            " 0.1570255  0.01180909 0.24794699 0.91402006 0.79726219 0.96979371\n",
            " 0.10076152 0.59217874 0.25715047 0.54294171 0.32045489 0.28346555\n",
            " 0.5738453  0.18331816 0.46913344 0.65081227 0.12818207 0.93059427\n",
            " 0.5057247  0.81952797 0.65390543 0.71000094 0.71613094 0.8750999\n",
            " 0.61360544 0.27821715 0.09950964 0.60625062 0.0663528  0.24129345\n",
            " 0.06070718 0.54888759 0.16033812 0.61040732 0.79086513 0.82188072\n",
            " 0.30954351 0.54895453 0.56301076 0.47288718 0.65511389 0.21008712\n",
            " 0.97924324 0.09807983]\n",
            "angle with constraint is: [-6.92844266  5.53377353 -7.04106173  8.26762213  0.35757151 -3.27237824\n",
            " -6.85949005 -9.76381824 -5.04106017  8.28040127  5.94524385  9.39587416\n",
            " -7.98476958  1.84357487 -4.85699052  0.85883412 -3.59090229 -4.330689\n",
            "  1.47690604 -6.33363676 -0.61733126  3.0162453  -7.43635854  8.61188542\n",
            "  0.11449399  6.39055944  3.07810861  4.20001882  4.32261882  7.50199794\n",
            "  2.2721087  -4.43565697 -8.00980714  2.12501239 -8.67294392 -5.17413097\n",
            " -8.78585631  0.97775178 -6.7932375   2.20814639  5.81730262  6.43761442\n",
            " -3.80912984  0.97909065  1.2602152  -0.54225636  3.10227783 -5.79825752\n",
            "  9.58486479 -8.03840346]\n",
            "Accuracy after rotation augmentation constrained by  20  is  0.6812\n",
            "shape of sample before is: (50, 28, 28)\n",
            "len(sample.shape) 3\n",
            "angle is: [0.82922114 0.59409599 0.24485475 0.745675   0.0844809  0.77441783\n",
            " 0.58998522 0.11075032 0.07950556 0.75083633 0.29293591 0.88930185\n",
            " 0.76207302 0.69819024 0.27860605 0.70894452 0.94814768 0.09155983\n",
            " 0.32616264 0.23467227 0.39325013 0.74233265 0.47424258 0.57073061\n",
            " 0.31415489 0.14128927 0.26693365 0.8596803  0.60241696 0.37798867\n",
            " 0.78990598 0.06445743 0.25389109 0.23010315 0.98536456 0.70609858\n",
            " 0.61778594 0.00498497 0.18431    0.63554129 0.37971933 0.92428038\n",
            " 0.76472422 0.44738407 0.74951498 0.97540432 0.46098082 0.64252589\n",
            " 0.91866462 0.24867466]\n",
            "angle with constraint is: [  9.87663424   2.82287961  -7.65435758   7.37025002 -12.46557313\n",
            "   8.23253503   2.69955667 -11.67749045 -12.61483311   7.52509\n",
            "  -6.2119228   11.67905552   7.86219063   5.94570734  -6.64181842\n",
            "   6.26833557  13.44443054 -12.25320497  -5.21512074  -7.95983204\n",
            "  -3.20249597   7.26997965  -0.77272256   2.12191818  -5.57535336\n",
            " -10.76132199  -6.99199053  10.79040904   3.07250886  -3.6603398\n",
            "   8.69717945 -13.06627703  -7.38326736  -8.09690538  14.56093687\n",
            "   6.18295747   3.53357809 -14.85045104  -9.47069994   4.06623879\n",
            "  -3.60842021  12.72841151   7.94172657  -1.57847782   7.48544933\n",
            "  14.26212971  -1.17057526   4.27577664  12.55993845  -7.53976014]\n",
            "shape of sample before is: (50, 28, 28)\n",
            "len(sample.shape) 3\n",
            "angle is: [0.88655791 0.09754471 0.64844817 0.78283816 0.61460622 0.4955348\n",
            " 0.6173471  0.15166371 0.21557071 0.26989934 0.59777934 0.44190107\n",
            " 0.24447584 0.88280933 0.37392184 0.44603172 0.40970108 0.18194296\n",
            " 0.73162702 0.44845826 0.01625711 0.9640137  0.81576361 0.72355935\n",
            " 0.86909187 0.90680725 0.33748971 0.61095868 0.60880781 0.26729967\n",
            " 0.22195225 0.11390725 0.6593142  0.78091899 0.76095298 0.31627538\n",
            " 0.20525985 0.45361418 0.54681346 0.91908713 0.87482315 0.91605833\n",
            " 0.85026239 0.9645812  0.4655     0.0474735  0.08356203 0.39027614\n",
            " 0.25768709 0.16994059]\n",
            "angle with constraint is: [ 11.59673741 -12.0736588    4.45344512   8.48514465   3.43818658\n",
            "  -0.13395588   3.520413   -10.45008874  -8.53287869  -6.90301968\n",
            "   2.93338022  -1.74296779  -7.66572473  11.48427996  -3.78234479\n",
            "  -1.61904842  -2.7089677   -9.54171134   6.94881046  -1.54625213\n",
            " -14.5122867   13.92041107   9.47290835   6.70678062  11.07275612\n",
            "  12.20421761  -4.87530881   3.32876035   3.26423428  -6.98100994\n",
            "  -8.34143246 -11.58278236   4.77942588   8.42756973   7.82858939\n",
            "  -5.51173868  -8.84220449  -1.39157465   1.40440381  12.57261384\n",
            "  11.24469463  12.48174994  10.50787155  13.93743613  -1.03500008\n",
            " -13.57579508 -12.49313904  -3.29171575  -7.26938726  -9.90178226]\n",
            "shape of sample before is: (50, 28, 28)\n",
            "len(sample.shape) 3\n",
            "angle is: [0.95320377 0.19541959 0.95937927 0.76083884 0.64094567 0.67601896\n",
            " 0.33147432 0.64642704 0.18669212 0.93770543 0.30179334 0.25518651\n",
            " 0.7111628  0.65644872 0.45129892 0.63244623 0.15949307 0.67332831\n",
            " 0.2706107  0.27283598 0.16217993 0.33237714 0.33125106 0.45417901\n",
            " 0.1904195  0.19300754 0.54173857 0.1288774  0.68889701 0.94394713\n",
            " 0.42679562 0.90110531 0.09831659 0.04295763 0.72136888 0.76102157\n",
            " 0.84305824 0.05681768 0.77690705 0.37653873 0.30333763 0.17302392\n",
            " 0.99601576 0.06366359 0.82700801 0.63949444 0.73508044 0.71171712\n",
            " 0.85843449 0.18379207]\n",
            "angle with constraint is: [ 13.59611324  -9.13741235  13.78137817   7.82516521   4.22837016\n",
            "   5.2805688   -5.05577029   4.39281114  -9.39923645  13.13116298\n",
            "  -5.9461998   -7.34440463   6.33488395   4.69346154  -1.46103245\n",
            "   3.97338704 -10.21520785   5.19984922  -6.88167914  -6.8149207\n",
            " -10.13460195  -5.02868595  -5.06246819  -1.37462965  -9.28741486\n",
            "  -9.20977392   1.25215715 -11.13367786   5.66691024  13.31841378\n",
            "  -2.19613135  12.03315939 -12.05050227 -13.71127118   6.64106633\n",
            "   7.83064719  10.29174723 -13.29546965   8.30721165  -3.70383802\n",
            "  -5.89987102  -9.80928236  14.88047265 -13.09009232   9.81024044\n",
            "   4.18483306   7.05241333   6.3515136   10.75303455  -9.4862379 ]\n",
            "shape of sample before is: (50, 28, 28)\n",
            "len(sample.shape) 3\n",
            "angle is: [8.24616835e-04 5.98528489e-01 3.53858639e-01 1.23787331e-01\n",
            " 1.86138754e-01 3.31749312e-01 7.02333709e-02 5.69132021e-02\n",
            " 9.16026255e-01 3.12102749e-01 9.82230697e-01 9.64367008e-01\n",
            " 1.42571282e-01 7.14924303e-01 6.00804889e-01 6.90647073e-01\n",
            " 9.61910000e-02 1.88560079e-01 7.66386615e-02 6.04134205e-01\n",
            " 9.86591076e-01 6.71984538e-01 7.10761535e-01 9.84585042e-01\n",
            " 6.78011554e-01 4.01815726e-02 8.67005601e-01 3.64678290e-01\n",
            " 4.36362151e-03 5.07234178e-01 9.37015001e-01 2.57330687e-01\n",
            " 4.91513173e-01 1.73776888e-01 5.76926717e-02 8.05449467e-02\n",
            " 7.27010906e-01 8.64074471e-01 1.43298839e-01 2.88318568e-01\n",
            " 1.95029468e-01 2.68557769e-02 5.53431370e-01 6.99922170e-01\n",
            " 6.47877481e-01 3.88053547e-01 5.55010246e-01 9.40993066e-02\n",
            " 1.54303719e-01 9.31794620e-01]\n",
            "angle with constraint is: [-14.97526149   2.95585467  -4.38424082 -11.28638007  -9.41583738\n",
            "  -5.04752063 -12.89299887 -13.29260394  12.48078764  -5.63691752\n",
            "  14.46692092  13.93101025 -10.72286153   6.44772909   3.02414667\n",
            "   5.71941219 -12.11427     -9.34319764 -12.70084016   3.12402616\n",
            "  14.59773228   5.15953613   6.32284605  14.53755125   5.34034663\n",
            " -13.79455282  11.01016803  -4.05965129 -14.86909135   0.21702533\n",
            "  13.11045003  -7.28007938  -0.25460481  -9.78669337 -13.26921985\n",
            " -12.5836516    6.81032718  10.92223412 -10.70103482  -6.35044297\n",
            "  -9.14911597 -14.19432669   1.6029411    5.9976651    4.43632443\n",
            "  -3.35839358   1.65030738 -12.1770208  -10.37088844  12.95383859]\n",
            "shape of sample before is: (50, 28, 28)\n",
            "len(sample.shape) 3\n",
            "angle is: [0.76150775 0.9227391  0.91668028 0.64939262 0.92823865 0.4167041\n",
            " 0.00361624 0.06257112 0.10948733 0.09535345 0.35170239 0.70127081\n",
            " 0.79064881 0.59021327 0.14643617 0.7479016  0.35480192 0.01299335\n",
            " 0.28058862 0.33060055 0.27424554 0.81187015 0.7599264  0.69555203\n",
            " 0.13900508 0.80783391 0.67717596 0.19483769 0.64809393 0.48351164\n",
            " 0.43935006 0.11212316 0.51830428 0.09993181 0.16425339 0.13254631\n",
            " 0.95410828 0.28486469 0.35520432 0.32208061 0.89825045 0.56296591\n",
            " 0.9191599  0.29992491 0.11483467 0.55621845 0.34553699 0.80190683\n",
            " 0.87942341 0.47257351]\n",
            "angle with constraint is: [  7.84523243  12.68217287  12.50040853   4.48177851  12.84715944\n",
            "  -2.49887691 -14.89151266 -13.12286652 -11.71538023 -12.1393964\n",
            "  -4.44892827   6.03812421   8.7194642    2.70639823 -10.60691476\n",
            "   7.43704806  -4.35594243 -14.61019954  -6.58234138  -5.08198338\n",
            "  -6.77263394   9.3561046    7.79779193   5.86656091 -10.82984764\n",
            "   9.23501729   5.31527885  -9.15486941   4.44281791  -0.49465077\n",
            "  -1.81949814 -11.6363051    0.54912828 -12.00204573 -10.07239838\n",
            " -11.02361057  13.62324837  -6.45405929  -4.34387029  -5.33758181\n",
            "  11.94751336   1.88897734  12.57479697  -6.00225283 -11.55495977\n",
            "   1.68655358  -4.63389025   9.057205    11.38270227  -0.82279467]\n",
            "Accuracy after rotation augmentation constrained by  30  is  0.682\n",
            "shape of sample before is: (50, 28, 28)\n",
            "len(sample.shape) 3\n",
            "angle is: [0.97135902 0.55301301 0.27092039 0.48897552 0.03731029 0.80400116\n",
            " 0.10143505 0.30874849 0.56531655 0.04297513 0.0793169  0.69611636\n",
            " 0.07177709 0.47708287 0.33869563 0.22807941 0.1887789  0.76341129\n",
            " 0.95154219 0.14017974 0.95968122 0.5947625  0.64166041 0.70992638\n",
            " 0.70411889 0.81981111 0.48346865 0.53335859 0.323827   0.10525759\n",
            " 0.66464019 0.03360997 0.27563505 0.09422986 0.19072716 0.63873091\n",
            " 0.62847663 0.42105491 0.09017198 0.43337392 0.35274487 0.72045915\n",
            " 0.57902661 0.49156577 0.48698208 0.96629689 0.75629422 0.49697956\n",
            " 0.47922261 0.0264791 ]\n",
            "angle with constraint is: [ 18.85436096   2.12052025  -9.16318426  -0.44097939 -18.5075883\n",
            "  12.16004641 -15.94259797  -7.65006046   2.61266188 -18.28099497\n",
            " -16.82732403   7.8446543  -17.12891628  -0.91668535  -6.45217466\n",
            " -10.87682368 -12.44884409  10.53645175  18.06168773 -14.39281031\n",
            "  18.38724877   3.79050014   5.66641621   8.39705513   8.16475561\n",
            "  12.79244433  -0.66125395   1.3343435   -7.0469199  -15.78969625\n",
            "   6.58560764 -18.65560123  -8.97459796 -16.23080542 -12.37091371\n",
            "   5.54923652   5.13906521  -3.15780348 -16.39312094  -2.66504334\n",
            "  -5.89020513   8.81836611   3.16106433  -0.33736931  -0.52071671\n",
            "  18.65187549  10.25176887  -0.12081758  -0.83109548 -18.94083595]\n",
            "shape of sample before is: (50, 28, 28)\n",
            "len(sample.shape) 3\n",
            "angle is: [0.94250926 0.31917397 0.25593908 0.99940893 0.71868967 0.04736377\n",
            " 0.06188548 0.02550156 0.5996189  0.0715645  0.93338836 0.93690654\n",
            " 0.54605407 0.61663893 0.2918944  0.06397254 0.73746045 0.10178599\n",
            " 0.08555764 0.31122311 0.01246566 0.43403562 0.70768091 0.80134893\n",
            " 0.6043073  0.8468742  0.4065022  0.84877209 0.50647331 0.22303613\n",
            " 0.94414565 0.27497087 0.02620148 0.24267404 0.36668756 0.35134968\n",
            " 0.52466751 0.88312688 0.29233823 0.52077061 0.34013895 0.82177306\n",
            " 0.15760151 0.10351027 0.50299525 0.67188759 0.7955252  0.58962485\n",
            " 0.77384976 0.39271006]\n",
            "angle with constraint is: [ 17.70037053  -7.23304113  -9.76243672  19.97635702   8.74758686\n",
            " -18.10544907 -17.52458092 -18.97993744   3.98475598 -17.13742\n",
            "  17.33553427  17.4762616    1.84216267   4.66555726  -8.32422394\n",
            " -17.4410983    9.49841781 -15.92856045 -16.57769436  -7.55107563\n",
            " -19.50137361  -2.63857537   8.3072364   12.05395726   4.17229215\n",
            "  13.87496812  -3.73991185  13.9508834    0.25893242 -11.07855488\n",
            "  17.76582587  -9.00116505 -18.95194063 -10.29303828  -5.33249755\n",
            "  -5.94601267   0.98670038  15.32507528  -8.30647092   0.83082432\n",
            "  -6.39444185  12.87092237 -13.69593947 -15.85958927   0.11981013\n",
            "   6.87550343  11.82100804   3.58499412  10.95399045  -4.29159766]\n",
            "shape of sample before is: (50, 28, 28)\n",
            "len(sample.shape) 3\n",
            "angle is: [0.03286767 0.11609931 0.0387226  0.32894365 0.49549134 0.35631748\n",
            " 0.56059948 0.48060915 0.6779428  0.66696216 0.31806415 0.34621446\n",
            " 0.58514782 0.59643247 0.31469991 0.33031789 0.69404501 0.64741082\n",
            " 0.1350508  0.44104188 0.89270608 0.03630568 0.85516395 0.16317816\n",
            " 0.50724863 0.42433643 0.01012934 0.91539694 0.45492523 0.95426828\n",
            " 0.2867439  0.86627577 0.92238957 0.55683242 0.20267779 0.68524743\n",
            " 0.54897807 0.94452967 0.43927206 0.26851365 0.138287   0.69863357\n",
            " 0.97410962 0.02834377 0.74044535 0.92693036 0.07478153 0.11017005\n",
            " 0.6919571  0.64796338]\n",
            "angle with constraint is: [-18.68529319 -15.35602768 -18.45109595  -6.84225398  -0.18034635\n",
            "  -5.74730065   2.423979    -0.77563406   7.11771207   6.67848654\n",
            "  -7.27743412  -6.15142179   3.40591287   3.85729872  -7.41200345\n",
            "  -6.78728457   7.76180053   5.89643292 -14.59796781  -2.35832481\n",
            "  15.70824315 -18.54777296  14.20655786 -13.47287372   0.2899453\n",
            "  -3.02654284 -19.59482651  16.61587748  -1.80299091  18.17073107\n",
            "  -8.53024396  14.65103094  16.89558296   2.27329665 -11.89288849\n",
            "   7.40989728   1.95912266  17.78118663  -2.42911753  -9.25945409\n",
            " -14.46851994   7.94534275  18.96438476 -18.86624918   9.61781419\n",
            "  17.0772145  -17.00873863 -15.5931982    7.67828394   5.91853504]\n",
            "shape of sample before is: (50, 28, 28)\n",
            "len(sample.shape) 3\n",
            "angle is: [0.06882742 0.83442275 0.52342385 0.90719737 0.87799088 0.81250777\n",
            " 0.5158989  0.25171064 0.5059755  0.10081138 0.65884615 0.13397722\n",
            " 0.51117296 0.05438197 0.29951249 0.23208046 0.62003154 0.78678671\n",
            " 0.05730295 0.85028369 0.86076769 0.34226907 0.65900407 0.40261303\n",
            " 0.15419088 0.52866242 0.08635967 0.87847216 0.92428976 0.82161314\n",
            " 0.56252812 0.55759859 0.98460738 0.24790169 0.07594837 0.56194092\n",
            " 0.3287856  0.32233877 0.00708535 0.59623941 0.2640337  0.18785855\n",
            " 0.04043193 0.36436158 0.87896887 0.33667081 0.67907421 0.75654696\n",
            " 0.32810081 0.82164074]\n",
            "angle with constraint is: [-17.24690339  13.37691009   0.93695391  16.28789493  15.11963524\n",
            "  12.50031076   0.63595585  -9.93157433   0.23902016 -15.96754489\n",
            "   6.35384594 -14.64091123   0.4469185  -17.82472103  -8.01950039\n",
            " -10.71678157   4.80126171  11.47146848 -17.70788182  14.01134741\n",
            "  14.4307078   -6.30923703   6.36016264  -3.89547873 -13.83236471\n",
            "   1.14649674 -16.54561302  15.13888622  16.97159038  12.86452548\n",
            "   2.50112483   2.30394365  19.38429506 -10.08393241 -16.96206536\n",
            "   2.47763694  -6.84857609  -7.10644909 -19.71658583   3.84957638\n",
            "  -9.43865191 -12.48565807 -18.38272274  -5.42553694  15.1587549\n",
            "  -6.5331677    7.1629684   10.26187854  -6.87596763  12.8656294 ]\n",
            "shape of sample before is: (50, 28, 28)\n",
            "len(sample.shape) 3\n",
            "angle is: [0.69187966 0.55924223 0.00099246 0.03509077 0.99086584 0.78228392\n",
            " 0.93756526 0.9023032  0.02044298 0.79184729 0.45114574 0.7895582\n",
            " 0.00671578 0.2881993  0.75132378 0.79302079 0.6197146  0.30125619\n",
            " 0.31036259 0.96676396 0.43921218 0.44712555 0.55233275 0.40950234\n",
            " 0.55267156 0.43233542 0.82671492 0.90905102 0.93211026 0.56429621\n",
            " 0.44214856 0.70524006 0.83832359 0.56298224 0.69998102 0.74972935\n",
            " 0.67639378 0.74613356 0.20864533 0.49837455 0.58826855 0.00247793\n",
            " 0.85596251 0.61002451 0.12913633 0.81635707 0.71705697 0.75829954\n",
            " 0.39204246 0.85420251]\n",
            "angle with constraint is: [  7.67518639   2.36968915 -19.96030144 -18.59636936  19.63463376\n",
            "  11.29135694  17.50261035  16.0921282  -19.18228067  11.67389159\n",
            "  -1.95417024  11.58232816 -19.73136863  -8.47202795  10.05295103\n",
            "  11.72083154   4.78858405  -7.94975242  -7.58549635  18.67055855\n",
            "  -2.43151283  -2.11497799   2.09331001  -3.61990653   2.10686258\n",
            "  -2.70658309  13.06859678  16.36204079  17.28441039   2.57184823\n",
            "  -2.3140577    8.20960235  13.53294365   2.51928968   7.99924087\n",
            "   9.98917403   7.05575107   9.84534223 -11.6541867   -0.06501812\n",
            "   3.53074218 -19.90088277  14.23850035   4.40098034 -14.83454673\n",
            "  12.6542829    8.68227866  10.33198174  -4.31830153  14.16810027]\n",
            "Accuracy after rotation augmentation constrained by  40  is  0.6772\n",
            "shape of sample before is: (50, 28, 28)\n",
            "len(sample.shape) 3\n",
            "angle is: [4.14027582e-01 5.70509153e-01 6.42303700e-04 6.44873115e-01\n",
            " 7.18175792e-01 5.67109365e-01 4.96558817e-01 8.09936474e-01\n",
            " 6.81372717e-01 2.78074040e-01 9.59073338e-01 7.07267194e-01\n",
            " 9.87938929e-01 9.71261316e-01 9.18909723e-01 7.55371541e-01\n",
            " 6.09429368e-01 1.72170664e-01 5.43351417e-01 7.65376522e-01\n",
            " 5.20857159e-01 8.68239128e-01 1.09655899e-01 3.80940348e-01\n",
            " 5.05964419e-01 4.32325296e-01 1.08586548e-01 1.53528294e-01\n",
            " 8.37617293e-01 4.84384259e-01 4.87224268e-02 1.64912590e-02\n",
            " 4.73475402e-01 1.64378726e-01 7.05125946e-01 7.95323463e-01\n",
            " 2.28296708e-01 5.92176945e-01 1.54444643e-01 3.03582652e-01\n",
            " 8.88795494e-01 5.44098091e-01 8.85888695e-01 2.25247804e-01\n",
            " 3.30024343e-01 4.70952138e-01 4.80080075e-01 9.97647967e-01\n",
            " 1.14445319e-01 8.51965036e-01]\n",
            "angle with constraint is: [ -4.29862089   3.52545765 -24.96788482   7.24365573  10.90878961\n",
            "   3.35546827  -0.17205915  15.49682369   9.06863586 -11.09629801\n",
            "  22.9536669   10.36335971  24.39694645  23.56306581  20.94548614\n",
            "  12.76857706   5.47146842 -16.39146682   2.16757087  13.26882612\n",
            "   1.04285794  18.41195642 -19.51720504  -5.9529826    0.29822093\n",
            "  -3.38373521 -19.57067261 -17.3235853   16.88086464  -0.78078704\n",
            " -22.56387866 -24.17543705  -1.3262299  -16.7810637   10.2562973\n",
            "  14.76617313 -13.58516458   4.60884724 -17.27776783  -9.82086742\n",
            "  19.43977471   2.20490457  19.29443476 -13.73760979  -8.49878284\n",
            "  -1.45239308  -0.99599624  24.88239836 -19.27773405  17.59825178]\n",
            "shape of sample before is: (50, 28, 28)\n",
            "len(sample.shape) 3\n",
            "angle is: [0.86368204 0.55319863 0.34403717 0.5192261  0.2924677  0.79910745\n",
            " 0.49827916 0.92584218 0.62269134 0.51431933 0.71106935 0.50393296\n",
            " 0.90450635 0.18444596 0.97334868 0.81219055 0.86073336 0.48290783\n",
            " 0.83720155 0.30677408 0.76194818 0.14045016 0.30705192 0.44573266\n",
            " 0.32231972 0.38701712 0.82010474 0.25667589 0.74528117 0.07371207\n",
            " 0.76573911 0.79202324 0.40169878 0.72247782 0.9151384  0.80071297\n",
            " 0.39044651 0.48421351 0.77935754 0.29259459 0.80388274 0.32807114\n",
            " 0.80599058 0.08680044 0.0443973  0.99767545 0.86945712 0.8828475\n",
            " 0.95127995 0.43831631]\n",
            "angle with constraint is: [ 18.18410197   2.65993158  -7.79814159   0.96130521 -10.37661476\n",
            "  14.95537242  -0.08604206  21.29210894   6.13456722   0.71596666\n",
            "  10.5534677    0.19664822  20.22531752 -15.77770196  23.66743419\n",
            "  15.60952759  18.03666809  -0.85460838  16.86007747  -9.66129582\n",
            "  13.09740893 -17.97749208  -9.6474042   -2.71336683  -8.88401409\n",
            "  -5.64914422  16.00523724 -12.16620539  12.26405861 -21.31439654\n",
            "  13.28695538  14.60116214  -4.91506122  11.12389116  20.75692019\n",
            "  15.03564868  -5.47767448  -0.78932429  13.96787724 -10.37027051\n",
            "  15.19413702  -8.59644287  15.29952912 -20.65997783 -22.78013515\n",
            "  24.88377237  18.47285616  19.14237517  22.56399738  -3.08418453]\n",
            "shape of sample before is: (50, 28, 28)\n",
            "len(sample.shape) 3\n",
            "angle is: [0.28683555 0.130025   0.50120913 0.22004832 0.93555086 0.00400316\n",
            " 0.14319674 0.24647585 0.19895671 0.22577844 0.65604761 0.32751208\n",
            " 0.61502438 0.89025793 0.60255677 0.69453279 0.3655033  0.15973847\n",
            " 0.32058406 0.96428265 0.62181138 0.27751112 0.45091527 0.83551304\n",
            " 0.66844357 0.56065284 0.88516288 0.67243957 0.64272973 0.18976814\n",
            " 0.10638868 0.96514212 0.59885837 0.41568341 0.58902082 0.06181196\n",
            " 0.82212727 0.21664554 0.80454601 0.53437844 0.27657201 0.03020995\n",
            " 0.81583336 0.17646014 0.05180512 0.75587773 0.35004322 0.38933401\n",
            " 0.24706759 0.85917848]\n",
            "angle with constraint is: [-10.65822227 -18.49875025   0.06045668 -13.99758398  21.77754284\n",
            " -24.79984188 -17.84016311 -12.67620735 -15.05216442 -13.71107817\n",
            "   7.80238025  -8.62439608   5.7512191   19.51289668   5.12783828\n",
            "   9.72663956  -6.72483509 -17.01307662  -8.97079688  23.21413244\n",
            "   6.09056922 -11.12444403  -2.45423664  16.77565187   8.42217854\n",
            "   3.03264204  19.25814383   8.62197861   7.13648654 -15.51159314\n",
            " -19.68056585  23.25710585   4.94291851  -4.21582954   4.45104105\n",
            " -21.90940195  16.1063637  -14.16772322  15.22730032   1.71892216\n",
            " -11.17139932 -23.48950259  15.79166777 -16.17699293 -22.40974422\n",
            "  12.79388654  -7.49783888  -5.53329972 -12.64662064  17.95892393]\n",
            "shape of sample before is: (50, 28, 28)\n",
            "len(sample.shape) 3\n",
            "angle is: [0.29732953 0.21019257 0.30924973 0.20314958 0.31765522 0.08293622\n",
            " 0.15853003 0.41705288 0.87946686 0.05729075 0.21267471 0.90834568\n",
            " 0.89001467 0.67945083 0.24047355 0.41981056 0.21122099 0.12858851\n",
            " 0.37999839 0.57582161 0.35993268 0.61082455 0.29625474 0.34585053\n",
            " 0.79067359 0.87831473 0.32203408 0.5715158  0.27816228 0.05333464\n",
            " 0.73785718 0.17100348 0.42571252 0.48704549 0.18447158 0.09455535\n",
            " 0.34801301 0.95228591 0.61513559 0.38141023 0.03891082 0.60027328\n",
            " 0.09225764 0.54254407 0.75195051 0.42358535 0.29941149 0.04738423\n",
            " 0.02477788 0.43002657]\n",
            "angle with constraint is: [-10.13352369 -14.49037151  -9.53751368 -14.84252124  -9.11723896\n",
            " -20.85318886 -17.07349854  -4.14735583  18.97334278 -22.13546266\n",
            " -14.36626466  20.41728378  19.50073371   8.97254166 -12.9763223\n",
            "  -4.00947195 -14.43895028 -18.57057454  -6.00008027   3.79108025\n",
            "  -7.00336623   5.54122752 -10.18726323  -7.70747361  14.53367958\n",
            "  18.91573654  -8.89829592   3.57579007 -11.09188581 -22.33326791\n",
            "  11.89285907 -16.44982584  -3.71437381  -0.64772533 -15.77642079\n",
            " -20.27223247  -7.59934927  22.61429538   5.7567795   -5.92948858\n",
            " -23.05445896   5.01366407 -20.38711795   2.12720355  12.59752541\n",
            "  -3.82073259 -10.02942526 -22.63078831 -23.76110624  -3.49867152]\n",
            "shape of sample before is: (50, 28, 28)\n",
            "len(sample.shape) 3\n",
            "angle is: [0.88334527 0.24406278 0.57405551 0.68430582 0.06082987 0.15310038\n",
            " 0.33127679 0.67009317 0.43903511 0.73419507 0.86759787 0.75837228\n",
            " 0.99224721 0.75436107 0.8521792  0.83236636 0.73026576 0.80180182\n",
            " 0.93468323 0.47520738 0.63828702 0.51493972 0.85103699 0.4313596\n",
            " 0.81972677 0.79935458 0.9618861  0.2489207  0.70961951 0.7569195\n",
            " 0.93627849 0.90690242 0.57352586 0.57915319 0.16729123 0.9749627\n",
            " 0.25501746 0.72473622 0.795795   0.4412155  0.21119372 0.18896038\n",
            " 0.856496   0.51075649 0.09013698 0.71701947 0.25017105 0.87639475\n",
            " 0.30957179 0.20027083]\n",
            "angle with constraint is: [ 19.16726354 -12.79686106   3.70277529   9.21529098 -21.95850662\n",
            " -17.34498121  -8.43616033   8.50465871  -3.04824439  11.70975341\n",
            "  18.37989328  12.91861383  24.61236037  12.71805344  17.60895975\n",
            "  16.61831792  11.51328811  15.09009083  21.73416139  -1.23963107\n",
            "   6.9143512    0.74698608  17.55184936  -3.43201986  15.98633856\n",
            "  14.96772875  23.09430507 -12.55396504  10.48097549  12.84597488\n",
            "  21.81392464  20.3451209    3.67629309   3.95765929 -16.63543858\n",
            "  23.74813512 -12.24912686  11.23681092  14.78975024  -2.93922477\n",
            " -14.440314   -15.55198079  17.82480005   0.53782434 -20.4931509\n",
            "  10.85097364 -12.49144736  18.81973754  -9.5214107  -14.9864585 ]\n",
            "Accuracy after rotation augmentation constrained by  50  is  0.6697\n",
            "shape of sample before is: (50, 28, 28)\n",
            "len(sample.shape) 3\n",
            "angle is: [0.08485844 0.51153114 0.45073759 0.75131214 0.46460259 0.34381597\n",
            " 0.26165492 0.27814675 0.9278479  0.1650786  0.98817642 0.32691946\n",
            " 0.08839024 0.24869038 0.05841438 0.79002977 0.51255291 0.33698662\n",
            " 0.6620496  0.63064653 0.93987209 0.96126052 0.68068378 0.81781593\n",
            " 0.7924251  0.49130353 0.70445829 0.07825901 0.75802108 0.96183301\n",
            " 0.08497475 0.83611578 0.93298003 0.22618889 0.52481119 0.92785823\n",
            " 0.960226   0.12788238 0.34900423 0.69814464 0.2215585  0.32477063\n",
            " 0.02329106 0.15352168 0.56232949 0.65309007 0.64891183 0.77836047\n",
            " 0.41528141 0.27349072]\n",
            "angle with constraint is: [-24.90849339   0.6918682   -2.95574473  15.07872868  -2.12384477\n",
            "  -9.37104186 -14.30070506 -13.31119527  25.67087411 -20.09528387\n",
            "  29.29058547 -10.38483269 -24.69658587 -15.07857715 -26.49513723\n",
            "  17.40178615   0.75317475  -9.78080287   9.72297628   7.83879156\n",
            "  26.39232535  27.675631    10.84102654  19.06895563  17.54550602\n",
            "  -0.52178804  12.26749728 -25.30445954  15.48126499  27.70998043\n",
            " -24.90151481  20.16694708  25.9788016  -16.42866661   1.48867126\n",
            "  25.67149353  27.61356027 -22.32705694  -9.05974647  11.88867847\n",
            " -16.70649004 -10.51376228 -28.6025364  -20.78869914   3.73976967\n",
            "   9.18540398   8.93470987  16.70162825  -5.08311518 -13.59055703]\n",
            "shape of sample before is: (50, 28, 28)\n",
            "len(sample.shape) 3\n",
            "angle is: [0.0155807  0.20662983 0.31238781 0.17820686 0.02014447 0.15744761\n",
            " 0.66609955 0.62958542 0.93568364 0.79816829 0.56775612 0.13755635\n",
            " 0.56407182 0.06159506 0.4308849  0.39025863 0.42781381 0.27982592\n",
            " 0.68583045 0.84094447 0.76851699 0.6277521  0.5383448  0.03108418\n",
            " 0.722934   0.54498294 0.27074105 0.32784204 0.93560679 0.62436225\n",
            " 0.47591243 0.62092174 0.41374232 0.47018227 0.29030926 0.4398533\n",
            " 0.68559223 0.03994193 0.79502741 0.28297954 0.68255979 0.64272531\n",
            " 0.65262805 0.60812892 0.95910184 0.50834416 0.73231912 0.70544933\n",
            " 0.23626758 0.28330584]\n",
            "angle with constraint is: [-29.065158   -17.60221044 -11.25673127 -19.30758861 -28.79133171\n",
            " -20.55314348   9.96597321   7.77512499  26.14101836  17.89009748\n",
            "   4.06536701 -21.74661915   3.84430914 -26.30429635  -4.14690616\n",
            "  -6.58448226  -4.33117144 -13.2104449   11.14982686  20.45666804\n",
            "  16.11101956   7.66512575   2.30068796 -28.1349492   13.37603992\n",
            "   2.69897637 -13.75553696 -10.32947767  26.13640719   7.46173471\n",
            "  -1.44525392   7.25530438  -5.1754605   -1.78906361 -12.5814446\n",
            "  -3.60880196  11.13553395 -27.60348449  17.70164444 -13.02122755\n",
            "  10.95358761   8.56351888   9.15768295   6.48773498  27.54611028\n",
            "   0.50064976  13.93914693  12.32695987 -15.82394536 -13.00164965]\n",
            "shape of sample before is: (50, 28, 28)\n",
            "len(sample.shape) 3\n",
            "angle is: [0.4240171  0.27769793 0.3667431  0.39096061 0.60386456 0.21989004\n",
            " 0.80429187 0.43753636 0.70624411 0.08144248 0.46996539 0.02821953\n",
            " 0.67590999 0.34371008 0.94925281 0.32412421 0.5638059  0.25738758\n",
            " 0.62011263 0.46704235 0.37062826 0.20368935 0.11152134 0.11987913\n",
            " 0.99904002 0.41231073 0.00192971 0.95292879 0.01997992 0.41858613\n",
            " 0.71747759 0.91459924 0.71288629 0.46362575 0.97444204 0.03931938\n",
            " 0.9868922  0.84939155 0.92893002 0.25477242 0.14245807 0.66331528\n",
            " 0.51585944 0.52316796 0.92461918 0.62008091 0.31106384 0.40006656\n",
            " 0.13349584 0.19231404]\n",
            "angle with constraint is: [ -4.55897411 -13.33812417  -7.99541406  -6.54236316   6.23187366\n",
            " -16.80659744  18.25751195  -3.74781859  12.3746467  -25.11345113\n",
            "  -1.80207635 -28.30682807  10.55459951  -9.37739538  26.95516885\n",
            " -10.55254712   3.82835388 -14.55674546   7.20675774  -1.97745899\n",
            "  -7.76230431 -17.77863906 -23.30871936 -22.80725196  29.94240105\n",
            "  -5.26135639 -29.88421753  27.17572744 -28.80120455  -4.88483247\n",
            "  13.04865516  24.87595466  12.77317749  -2.18245471  28.46652234\n",
            " -27.64083702  29.21353215  20.9634931   25.73580103 -14.71365455\n",
            " -21.45251566   9.79891676   0.95156628   1.39007764  25.47715071\n",
            "   7.2048544  -11.33616989  -5.99600661 -21.99024989 -18.46115758]\n",
            "shape of sample before is: (50, 28, 28)\n",
            "len(sample.shape) 3\n",
            "angle is: [0.14335007 0.81029134 0.70487347 0.53034502 0.37436783 0.66849429\n",
            " 0.81290535 0.88123322 0.54701623 0.81988512 0.51130595 0.47453009\n",
            " 0.86543186 0.38637394 0.39591268 0.30491135 0.51870173 0.54485003\n",
            " 0.66046115 0.43050231 0.21783729 0.86684206 0.34600087 0.92294342\n",
            " 0.20735333 0.56005748 0.53661509 0.82864785 0.13885139 0.90993717\n",
            " 0.53142817 0.58610938 0.51016629 0.03602491 0.49709066 0.26354966\n",
            " 0.34268818 0.6491016  0.49769713 0.09321821 0.07304127 0.1856577\n",
            " 0.19088515 0.60830076 0.17781446 0.88171942 0.20976066 0.09113145\n",
            " 0.87574602 0.29532758]\n",
            "angle with constraint is: [-21.39899579  18.61748047  12.29240808   1.82070106  -7.53792998\n",
            "  10.10965742  18.77432086  22.87399294   2.82097369  19.19310731\n",
            "   0.6783572   -1.52819465  21.92591134  -6.81756382  -6.24523926\n",
            " -11.70531928   1.1221037    2.69100202   9.62766872  -4.16986139\n",
            " -16.92976249  22.01052374  -9.23994797  25.37660519 -17.55880002\n",
            "   3.60344857   2.19690561  19.71887088 -21.66891679  24.59623038\n",
            "   1.88569033   5.16656303   0.6099776  -27.83850559  -0.17456029\n",
            " -14.18702024  -9.43870918   8.94609595  -0.13817223 -24.40690724\n",
            " -25.61752351 -18.86053826 -18.54689121   6.49804542 -19.33113216\n",
            "  22.9031654  -17.41436036 -24.53211327  22.54476098 -12.28034544]\n",
            "shape of sample before is: (50, 28, 28)\n",
            "len(sample.shape) 3\n",
            "angle is: [0.42542263 0.95902638 0.94436922 0.71491689 0.06893895 0.59334013\n",
            " 0.98907794 0.94691623 0.10600249 0.3959673  0.31553675 0.12972811\n",
            " 0.69479831 0.27384836 0.3448658  0.09035888 0.49796756 0.15816786\n",
            " 0.43209042 0.14334222 0.95384989 0.14498253 0.52188715 0.19697983\n",
            " 0.0763618  0.20230862 0.05477411 0.13939738 0.49348416 0.65181552\n",
            " 0.08733982 0.44101862 0.58124702 0.23422568 0.37207841 0.07183487\n",
            " 0.22013108 0.46675293 0.99044218 0.99626506 0.97962168 0.42308639\n",
            " 0.08068038 0.32357344 0.23771438 0.01412657 0.09523361 0.45319194\n",
            " 0.33966246 0.18035372]\n",
            "angle with constraint is: [ -4.47464221  27.54158304  26.66215315  12.89501336 -25.8636629\n",
            "   5.60040752  29.3446761   26.81497371 -23.63985045  -6.24196181\n",
            " -11.06779525 -22.21631359  11.68789867 -13.56909814  -9.30805181\n",
            " -24.5784674   -0.12194647 -20.50992818  -4.07457459 -21.39946667\n",
            "  27.2309934  -21.30104801   1.31322923 -18.18121048 -25.41829179\n",
            " -17.86148287 -26.71355356 -21.63615701  -0.39095053   9.10893126\n",
            " -24.7596111   -3.53888257   4.87482137 -15.94645943  -7.67529531\n",
            " -25.68990782 -16.79213519  -1.99482444  29.42653074  29.77590378\n",
            "  28.77730087  -4.61481682 -25.1591773  -10.58559377 -15.73713748\n",
            " -29.15240551 -24.28598338  -2.8084839   -9.62025217 -19.1787767 ]\n",
            "Accuracy after rotation augmentation constrained by  60  is  0.6544\n",
            "shape of sample before is: (50, 28, 28)\n",
            "len(sample.shape) 3\n",
            "angle is: [0.71609997 0.3571156  0.85186786 0.24097716 0.53839349 0.18413922\n",
            " 0.49530062 0.15246651 0.16157862 0.61222338 0.26378604 0.17236723\n",
            " 0.92976825 0.04300325 0.56514811 0.54826384 0.25060887 0.45277175\n",
            " 0.08773778 0.72127015 0.22169715 0.19338536 0.31487848 0.90236992\n",
            " 0.79646665 0.94689229 0.65196235 0.66292151 0.480031   0.90518632\n",
            " 0.51087715 0.35506007 0.64037501 0.54613949 0.12401982 0.39272541\n",
            " 0.31332541 0.84683378 0.37884256 0.82155523 0.44238959 0.75350056\n",
            " 0.13528193 0.92465022 0.48055989 0.25979825 0.24148961 0.26507729\n",
            " 0.36672417 0.71751953]\n",
            "angle with constraint is: [ 15.12699795 -10.00190829  24.6307499  -18.13159878   2.68754431\n",
            " -22.1102548   -0.32895685 -24.32734437 -23.68949629   7.85563639\n",
            " -16.53497705 -22.93429414  30.08377751 -31.98977245   4.56036789\n",
            "   3.37846893 -17.45737879  -3.30597784 -28.85835518  15.48891021\n",
            " -19.48119961 -21.46302481 -12.95850652  28.16589442  20.75266538\n",
            "  31.28246038  10.63736422  11.40450577  -1.39783004  28.36304264\n",
            "   0.76140045 -10.14579504   9.82625069   3.22976454 -26.31861293\n",
            "  -7.50922103 -13.06722122  24.27836425  -8.48102101  22.50886628\n",
            "  -4.03272843  17.74503944 -25.530265    29.72551538  -1.36080764\n",
            " -16.81412281 -18.09572755 -16.4445898   -9.3293079   15.22636729]\n",
            "shape of sample before is: (50, 28, 28)\n",
            "len(sample.shape) 3\n",
            "angle is: [0.94960304 0.66903743 0.54716627 0.44859781 0.82819447 0.8496572\n",
            " 0.29303767 0.95342025 0.39511536 0.80007807 0.96681988 0.7036581\n",
            " 0.16155073 0.58613696 0.11877712 0.78914204 0.28131517 0.69521482\n",
            " 0.91008967 0.18100985 0.39285784 0.64711879 0.41965859 0.17481894\n",
            " 0.02907161 0.40659814 0.64920903 0.57398421 0.15624124 0.45069344\n",
            " 0.36947105 0.2742024  0.72927124 0.30965203 0.54014195 0.92322354\n",
            " 0.53927598 0.61702291 0.07324599 0.17813414 0.1009512  0.76481295\n",
            " 0.83592108 0.18645529 0.21927175 0.32320729 0.59107762 0.62179619\n",
            " 0.68675396 0.90519276]\n",
            "angle with constraint is: [ 31.472213    11.83262011   3.30163897  -3.59815344  22.97361269\n",
            "  24.47600417 -14.48736279  31.73941741  -7.34192458  21.00546484\n",
            "  32.67739147  14.25606706 -23.69144915   6.02958686 -26.68560138\n",
            "  20.23994279 -15.30793783  13.66503761  28.70627719 -22.32931045\n",
            "  -7.4999513   10.29831517  -5.6238985  -22.76267409 -32.96498701\n",
            "  -6.53812994  10.44463186   5.17889457 -24.06311322  -3.45145893\n",
            "  -9.13702677 -15.80583184  16.04898707 -13.3243579    2.80993666\n",
            "  29.62564747   2.74931876   8.19160371 -29.87278097 -22.53060994\n",
            " -27.93341605  18.53690638  23.51447566 -21.94812948 -19.65097744\n",
            " -12.37548974   6.37543319   8.52573357  13.0727771   28.36349293]\n",
            "shape of sample before is: (50, 28, 28)\n",
            "len(sample.shape) 3\n",
            "angle is: [0.29504014 0.65875899 0.55972285 0.30583724 0.90741519 0.09548341\n",
            " 0.71200103 0.72787371 0.91532653 0.51858059 0.32162234 0.82774067\n",
            " 0.77081028 0.50031561 0.76785738 0.2678756  0.58950633 0.86518345\n",
            " 0.3179845  0.48354998 0.95104485 0.79821184 0.88703902 0.38524706\n",
            " 0.99650526 0.1525656  0.51877058 0.47927338 0.79843219 0.90861777\n",
            " 0.73113938 0.62681624 0.42742919 0.51032592 0.50930031 0.02036847\n",
            " 0.5030458  0.8559708  0.70927401 0.79570862 0.39048499 0.52897324\n",
            " 0.03348357 0.38299794 0.47441604 0.2552089  0.03124098 0.69040811\n",
            " 0.43508775 0.41567819]\n",
            "angle with constraint is: [-1.43471902e+01  1.11131292e+01  4.18059920e+00 -1.35913932e+01\n",
            "  2.85190631e+01 -2.83161612e+01  1.48400719e+01  1.59511599e+01\n",
            "  2.90728569e+01  1.30064146e+00 -1.24864363e+01  2.29418469e+01\n",
            "  1.89567197e+01  2.20930094e-02  1.87500163e+01 -1.62487079e+01\n",
            "  6.26544313e+00  2.55628418e+01 -1.27410847e+01 -1.15150123e+00\n",
            "  3.15731398e+01  2.08748289e+01  2.70927314e+01 -8.03270574e+00\n",
            "  3.47553682e+01 -2.43204077e+01  1.31394083e+00 -1.45086324e+00\n",
            "  2.08902534e+01  2.86032441e+01  1.61797564e+01  8.87713653e+00\n",
            " -5.07995664e+00  7.22814195e-01  6.51021926e-01 -3.35742068e+01\n",
            "  2.13206338e-01  2.49179560e+01  1.46491808e+01  2.06996035e+01\n",
            " -7.66605072e+00  2.02812658e+00 -3.26561502e+01 -8.19014405e+00\n",
            " -1.79087686e+00 -1.71353770e+01 -3.28131315e+01  1.33285676e+01\n",
            " -4.54385744e+00 -5.90252648e+00]\n",
            "shape of sample before is: (50, 28, 28)\n",
            "len(sample.shape) 3\n",
            "angle is: [0.24998675 0.5378304  0.43802678 0.47398447 0.58087135 0.00632465\n",
            " 0.9076959  0.0710874  0.45092475 0.20737288 0.52378237 0.28023011\n",
            " 0.8600065  0.39635983 0.63875556 0.24887973 0.01940615 0.40415454\n",
            " 0.53648649 0.45954715 0.96201436 0.70683917 0.9956698  0.29506009\n",
            " 0.78905328 0.55555847 0.61176035 0.9858532  0.6539872  0.89881689\n",
            " 0.72575023 0.12738612 0.69942371 0.48431559 0.91879799 0.80683445\n",
            " 0.10413469 0.13391564 0.069611   0.49324487 0.08077176 0.72367834\n",
            " 0.55235858 0.83588502 0.27979579 0.51914078 0.11747969 0.88461\n",
            " 0.17500496 0.10236225]\n",
            "angle with constraint is: [-17.50092722   2.64812793  -4.33812531  -1.82108689   5.66099439\n",
            " -34.55727469  28.53871325 -30.02388221  -3.43526769 -20.48389873\n",
            "   1.66476586 -15.38389238  25.20045486  -7.25481162   9.7128889\n",
            " -17.57841903 -33.64156947  -6.70918251   2.55405427  -2.83169941\n",
            "  32.34100547  14.47874217  34.69688604 -14.34579368  20.23372957\n",
            "   3.88909273   7.82322481  34.00972403  10.77910398  27.91718246\n",
            "  15.80251643 -26.08297148  13.95965972  -1.09790879  29.31585951\n",
            "  21.4784113  -27.71057187 -25.62590494 -30.12722987  -0.47285877\n",
            " -29.34597686  15.65748356   3.6651007   23.51195123 -15.41429479\n",
            "   1.33985489 -26.77642199  26.92270019 -22.74965264 -27.83464241]\n",
            "shape of sample before is: (50, 28, 28)\n",
            "len(sample.shape) 3\n",
            "angle is: [0.2050506  0.80623149 0.10581453 0.61442749 0.7461813  0.75108116\n",
            " 0.19006089 0.061624   0.44880638 0.20248535 0.69927081 0.3566928\n",
            " 0.44935394 0.11348493 0.56755029 0.18552419 0.67898566 0.07116882\n",
            " 0.97589459 0.68452698 0.18172957 0.01409465 0.33446289 0.15281326\n",
            " 0.21841133 0.87275026 0.60320466 0.17645765 0.5566594  0.25578065\n",
            " 0.97620086 0.03275723 0.73231842 0.77299703 0.06716276 0.17186936\n",
            " 0.38430666 0.86815483 0.53699994 0.65530685 0.78301284 0.82812279\n",
            " 0.47628454 0.50879314 0.71800586 0.26334236 0.85448974 0.02078682\n",
            " 0.1957716  0.80019994]\n",
            "angle with constraint is: [-20.6464581   21.43620421 -27.59298306   8.00992464  17.23269104\n",
            "  17.57568123 -21.69573794 -30.68632011  -3.58355314 -20.82602583\n",
            "  13.94895663 -10.03150402  -3.54522413 -27.05605468   4.72852006\n",
            " -22.01330673  12.52899626 -30.01818242  33.31262146  12.9168885\n",
            " -22.27893025 -34.01337482 -11.58759755 -24.30307152 -19.71120668\n",
            "  26.09251809   7.2243262  -22.64796429   3.96615805 -17.09535426\n",
            "  33.33406051 -32.70699388  16.26228955  19.10979183 -30.29860652\n",
            " -22.9691445   -8.09853386  25.77083786   2.58999569  10.8714795\n",
            "  19.81089848  22.96859518  -1.66008198   0.61551971  15.26041\n",
            " -16.56603489  24.81428155 -33.54492229 -21.29598785  21.01399601]\n",
            "Accuracy after rotation augmentation constrained by  70  is  0.6618\n",
            "shape of sample before is: (50, 28, 28)\n",
            "len(sample.shape) 3\n",
            "angle is: [0.34025821 0.14983283 0.18675476 0.5307564  0.84618153 0.07065072\n",
            " 0.03048091 0.46516814 0.95618742 0.2790098  0.95917054 0.88768118\n",
            " 0.28313508 0.81694806 0.6858673  0.51182239 0.42291614 0.81550276\n",
            " 0.79307943 0.75693634 0.99825595 0.47851246 0.80692298 0.86247837\n",
            " 0.21160258 0.04206644 0.4047484  0.85673668 0.28910328 0.70001015\n",
            " 0.00734814 0.35536443 0.61551669 0.12975719 0.89660691 0.15627398\n",
            " 0.90979355 0.21638931 0.99427867 0.60474871 0.08434489 0.06527723\n",
            " 0.0749217  0.58989275 0.8095792  0.40296274 0.44483576 0.5892877\n",
            " 0.5330406  0.68806173]\n",
            "angle with constraint is: [-12.77934305 -28.01337338 -25.05961954   2.46051215  27.69452235\n",
            " -34.34794274 -37.56152727  -2.78654913  36.4949932  -17.67921573\n",
            "  36.73364313  31.01449413 -17.34919389  25.35584514  14.86938421\n",
            "   0.94579111  -6.16670856  25.24022047  23.44635462  20.55490688\n",
            "  39.8604761   -1.71900312  24.55383823  28.99826936 -23.07179348\n",
            " -36.63468464  -7.62012782  28.53893475 -16.8717375   16.00081233\n",
            " -39.41214887 -11.57084541   9.24133558 -29.61942479  31.72855297\n",
            " -27.49808183  32.7834836  -22.68885531  39.54229391   8.37989706\n",
            " -33.25240844 -34.77782124 -34.0062643    7.19141978  24.76633619\n",
            "  -7.76298066  -4.41313926   7.14301629   2.64324838  15.04493865]\n",
            "shape of sample before is: (50, 28, 28)\n",
            "len(sample.shape) 3\n",
            "angle is: [0.47178572 0.71386069 0.99731074 0.35029784 0.01221546 0.12562505\n",
            " 0.55351418 0.34425779 0.93998259 0.62744609 0.52035519 0.7980395\n",
            " 0.25858987 0.81973854 0.0030611  0.61967736 0.93475715 0.78785995\n",
            " 0.85363419 0.3969547  0.82423895 0.55083167 0.61854024 0.05891534\n",
            " 0.2015517  0.55096442 0.05880106 0.74144681 0.84005701 0.92036236\n",
            " 0.10176846 0.93972025 0.06762001 0.47405622 0.84025102 0.07031114\n",
            " 0.01823107 0.02494772 0.51127024 0.81159674 0.12742667 0.12461025\n",
            " 0.56854686 0.2342956  0.73021374 0.94963539 0.76603341 0.87717537\n",
            " 0.51958606 0.8323193 ]\n",
            "angle with constraint is: [ -2.25714239  17.10885481  39.7848594  -11.97617262 -39.02276297\n",
            " -29.94999636   4.2811348  -12.45937703  35.1986075   10.19568721\n",
            "   1.62841488  23.8431601  -19.31281032  25.57908322 -39.75511161\n",
            "   9.57418897  34.78057208  23.02879616  28.29073537  -8.24362439\n",
            "  25.93911569   4.0665332    9.48321892 -35.28677285 -23.87586423\n",
            "   4.07715324 -35.29591537  19.31574453  27.20456068  33.6289889\n",
            " -31.85852327  35.17761984 -34.59039939  -2.07550273  27.22008165\n",
            " -34.37510891 -38.54151416 -38.0041825    0.90161915  24.92773957\n",
            " -29.80586631 -30.03117967   5.4837484  -21.25635194  18.41709881\n",
            "  35.97083105  21.28267253  30.17402931   1.56688461  26.58554434]\n",
            "shape of sample before is: (50, 28, 28)\n",
            "len(sample.shape) 3\n",
            "angle is: [0.18290318 0.06834789 0.65595311 0.0519525  0.89248142 0.69155415\n",
            " 0.95220073 0.31388666 0.48615831 0.74169037 0.24277899 0.54184882\n",
            " 0.65946728 0.97880865 0.74470329 0.11813085 0.47533345 0.58877078\n",
            " 0.14662314 0.43196606 0.28400582 0.11882754 0.51204193 0.16563308\n",
            " 0.59053741 0.16969693 0.72359492 0.19524162 0.8962851  0.02620936\n",
            " 0.52199739 0.32010477 0.22507653 0.47160278 0.84201954 0.91527721\n",
            " 0.30324862 0.15424362 0.72014045 0.58199873 0.20101615 0.76029579\n",
            " 0.51893044 0.6533952  0.35933903 0.43909756 0.1803421  0.75651587\n",
            " 0.15701132 0.77830259]\n",
            "angle with constraint is: [-25.36774528 -34.53216877  12.47624881 -35.8437997   31.39851353\n",
            "  15.32433177  36.17605803 -14.88906749  -1.10733526  19.3352292\n",
            " -20.57768116   3.34790561  12.757382    38.30469236  19.57626354\n",
            " -30.54953198  -1.97332389   7.10166264 -28.27014857  -5.44271544\n",
            " -17.27953469 -30.49379662   0.96335468 -26.74935352   7.24299269\n",
            " -26.42424542  17.88759389 -24.38067016  31.70280806 -37.90325148\n",
            "   1.75979096 -14.39161873 -21.99387794  -2.27177767  27.36156291\n",
            "  33.22217644 -15.74011055 -27.66051023  17.61123581   6.55989804\n",
            " -23.91870811  20.82366305   1.51443482  12.27161596 -11.25287728\n",
            "  -4.8721951  -25.57263213  20.52126941 -27.43909407  22.26420758]\n",
            "shape of sample before is: (50, 28, 28)\n",
            "len(sample.shape) 3\n",
            "angle is: [0.79800785 0.74660096 0.01942279 0.27313321 0.46833774 0.59554438\n",
            " 0.9192221  0.37560597 0.87502332 0.16342929 0.37128049 0.05228201\n",
            " 0.74248929 0.15065276 0.25702002 0.77523325 0.53471672 0.01397272\n",
            " 0.0022352  0.51066063 0.30495551 0.18031145 0.61359394 0.22843647\n",
            " 0.59220715 0.37926595 0.18674622 0.13810474 0.2368606  0.02983211\n",
            " 0.30812696 0.90195469 0.83136213 0.37200376 0.57583362 0.56736056\n",
            " 0.82873754 0.2362901  0.29638749 0.30178543 0.04086999 0.31468786\n",
            " 0.87791378 0.91198765 0.10963535 0.45805854 0.3813489  0.4893592\n",
            " 0.55471952 0.02025876]\n",
            "angle with constraint is: [ 23.84062839  19.72807712 -38.44617696 -18.14934299  -2.53298058\n",
            "   7.6435503   33.53776795  -9.95152223  30.0018655  -26.92565695\n",
            " -10.297561   -35.81743913  19.39914328 -27.94777941 -19.43839875\n",
            "  22.01866018   2.77733739 -38.88218245 -39.82118362   0.85285054\n",
            " -15.6035589  -25.57508432   9.08751502 -21.72508226   7.37657197\n",
            "  -9.65872395 -25.06030259 -28.95162097 -21.05115175 -37.61343136\n",
            " -15.34984304  32.15637521  26.50897007 -10.23969946   6.06668949\n",
            "   5.38884472  26.29900314 -21.09679188 -16.2890009  -15.8571653\n",
            " -36.73040082 -14.82497094  30.23310213  32.95901181 -31.22917234\n",
            "  -3.35531667  -9.49208787  -0.85126427   4.37756192 -38.3792992 ]\n",
            "shape of sample before is: (50, 28, 28)\n",
            "len(sample.shape) 3\n",
            "angle is: [0.84224225 0.97366407 0.65340481 0.66045224 0.52797986 0.33427341\n",
            " 0.14897782 0.58406334 0.0449414  0.82450257 0.4209117  0.41475422\n",
            " 0.32717086 0.96935389 0.17491695 0.15130782 0.1655315  0.65852748\n",
            " 0.99189532 0.23547517 0.9056174  0.27861656 0.64789992 0.04049895\n",
            " 0.49565397 0.65456997 0.53631978 0.23783538 0.82849695 0.97013651\n",
            " 0.4591961  0.63591927 0.79041327 0.24148906 0.86445038 0.28020091\n",
            " 0.7758308  0.11209923 0.2883867  0.53361993 0.5249221  0.85043118\n",
            " 0.99612726 0.10721085 0.27138813 0.35759821 0.47891841 0.49390974\n",
            " 0.85619506 0.7705593 ]\n",
            "angle with constraint is: [ 27.37937983  37.89312585  12.27238496  12.83617908   2.23838863\n",
            " -13.25812706 -28.08177407   6.72506742 -36.40468772  25.96020542\n",
            "  -6.32706404  -6.81966207 -13.82633132  37.5483111  -26.00664378\n",
            " -27.89537428 -26.75747988  12.68219863  39.3516255  -21.16198637\n",
            "  32.44939177 -17.71067526  11.83199361 -36.76008385  -0.34768203\n",
            "  12.3655973    2.90558218 -20.97316921  26.27975586  37.6109209\n",
            "  -3.26431234  10.87354122  23.23306147 -20.68087515  29.15603055\n",
            " -17.58392758  22.06646428 -31.03206141 -16.92906373   2.68959472\n",
            "   1.99376766  28.03449476  39.69018061 -31.42313233 -18.28894937\n",
            " -11.39214318  -1.68652738  -0.48722055  28.49560505  21.64474422]\n",
            "Accuracy after rotation augmentation constrained by  80  is  0.6536\n",
            "shape of sample before is: (50, 28, 28)\n",
            "len(sample.shape) 3\n",
            "angle is: [0.01885158 0.45502176 0.61807384 0.46039559 0.13064526 0.39747408\n",
            " 0.4116557  0.18771592 0.75630711 0.32140068 0.58898729 0.51573018\n",
            " 0.87742708 0.12201493 0.11426301 0.30031967 0.43121497 0.29854225\n",
            " 0.76318708 0.24526584 0.08477474 0.41379981 0.77337929 0.85056194\n",
            " 0.73334485 0.55788668 0.7241917  0.68138954 0.23436663 0.55075889\n",
            " 0.77060933 0.31712066 0.65397315 0.48148043 0.50315885 0.09005504\n",
            " 0.66621717 0.86568704 0.14143129 0.36610566 0.04866745 0.02963189\n",
            " 0.9896585  0.49347151 0.35551902 0.27487708 0.98001264 0.25225079\n",
            " 0.7257084  0.2837581 ]\n",
            "angle with constraint is: [-43.30335789  -4.04804155  10.62664544  -3.56439716 -33.24192696\n",
            "  -9.22733247  -7.95098744 -28.10556698  23.0676403  -16.07393879\n",
            "   8.00885615   1.41571629  33.96843713 -34.01865613 -34.71632926\n",
            " -17.97122978  -6.19065287 -18.13119761  23.68683742 -22.92607412\n",
            " -37.37027315  -7.75801711  24.60413593  31.55057492  21.00103635\n",
            "   5.20980106  20.17725316  16.32505818 -23.90700308   4.5683003\n",
            "  24.35483994 -16.45914043  13.8575832   -1.66676152   0.28429659\n",
            " -36.8950466   14.95954488  32.91183318 -32.27118408 -12.0504904\n",
            " -40.61992906 -42.33313026  44.0692647   -0.58756425 -13.00328832\n",
            " -20.2610631   43.20113805 -22.2974293   20.31375562 -19.46177138]\n",
            "shape of sample before is: (50, 28, 28)\n",
            "len(sample.shape) 3\n",
            "angle is: [0.07048951 0.68327661 0.00163085 0.67574851 0.2503766  0.74610423\n",
            " 0.76975017 0.72410724 0.02448344 0.70373662 0.99014561 0.24262537\n",
            " 0.27423857 0.81352655 0.16039681 0.66058368 0.75502638 0.03716066\n",
            " 0.55376209 0.57587726 0.3034429  0.87634467 0.16274972 0.36419471\n",
            " 0.84866869 0.19064276 0.82137414 0.07906918 0.48922907 0.07533066\n",
            " 0.67790359 0.79060149 0.84985855 0.98126225 0.67201572 0.76906191\n",
            " 0.50575828 0.9127369  0.64375838 0.88355141 0.23545202 0.49673778\n",
            " 0.72981892 0.20272175 0.21133979 0.97804274 0.43461036 0.18181545\n",
            " 0.33146388 0.39737615]\n",
            "angle with constraint is: [-38.65594452  16.49489531 -44.85322371  15.81736604 -22.46610609\n",
            "  22.14938089  24.27751506  20.16965149 -42.79649027  18.33629577\n",
            "  44.11310527 -23.16371683 -20.3185285   28.21738946 -30.56428754\n",
            "  14.4525308   22.95237398 -41.65554044   4.83858848   6.82895327\n",
            " -17.69013923  33.87102025 -30.35252526 -12.22247614  31.38018184\n",
            " -27.84215191  28.92367227 -37.88377404  -0.96938395 -38.22024038\n",
            "  16.01132266  26.15413402  31.48726934  43.31360257  15.48141501\n",
            "  24.21557225   0.51824505  37.14632111  12.9382544   34.51962656\n",
            " -23.80931847  -0.29359974  20.6837029  -26.75504209 -25.97941861\n",
            "  43.02384664  -5.88506753 -28.63660924 -15.16825062  -9.23614666]\n",
            "shape of sample before is: (50, 28, 28)\n",
            "len(sample.shape) 3\n",
            "angle is: [6.23085257e-01 9.23014659e-01 9.86590076e-01 6.51698759e-01\n",
            " 6.99922361e-01 3.21829170e-01 8.57158595e-01 2.17798335e-01\n",
            " 1.06380649e-01 9.73255990e-01 8.64138677e-01 3.03645135e-01\n",
            " 6.75170716e-01 4.67018357e-01 3.23128206e-01 2.86774211e-01\n",
            " 1.36027445e-01 5.49318082e-01 4.46596690e-01 5.12186420e-01\n",
            " 2.15357167e-01 9.38610671e-01 6.38591196e-01 8.99600657e-01\n",
            " 1.09271166e-01 6.22850966e-01 8.49461819e-01 3.30920780e-01\n",
            " 1.95143169e-01 2.65021306e-01 2.72933727e-01 4.47198965e-01\n",
            " 3.25963603e-01 2.71274073e-01 6.48512298e-01 5.30323717e-02\n",
            " 3.40363778e-01 6.89751966e-01 1.75849749e-01 2.20927862e-01\n",
            " 2.00666625e-01 9.26106731e-04 4.73767752e-01 3.89587894e-02\n",
            " 2.72939812e-01 9.94803425e-01 9.18396211e-01 2.15075808e-01\n",
            " 3.10002432e-01 4.63704582e-01]\n",
            "angle with constraint is: [ 11.07767317  38.07131931  43.79310683  13.6528883   17.99301247\n",
            " -16.03537473  32.14427359 -25.39814983 -35.42574156  42.59303911\n",
            "  32.77248091 -17.67193789  15.76536447  -2.96834783 -15.91846145\n",
            " -19.19032103 -32.75752993   4.4386274   -4.80629789   1.09677783\n",
            " -25.61785493  39.47496037  12.47320767  35.96405916 -35.16559506\n",
            "  11.05658693  31.45156368 -15.21712982 -27.43711478 -21.14808248\n",
            " -20.43596459  -4.75209316 -15.66327575 -20.58533346  13.36610686\n",
            " -40.22708655 -14.36725997  17.07767693 -29.17352256 -25.1164924\n",
            " -26.94000371 -44.91665039  -2.36090234 -41.49370895 -20.43541694\n",
            "  44.53230821  37.65565903 -25.64317727 -17.09978113  -3.2665876 ]\n",
            "shape of sample before is: (50, 28, 28)\n",
            "len(sample.shape) 3\n",
            "angle is: [0.84441355 0.80264594 0.12624144 0.12444885 0.41673225 0.87009539\n",
            " 0.882085   0.10736585 0.57429729 0.1556752  0.68612931 0.91643325\n",
            " 0.45476929 0.08308277 0.5792542  0.40851667 0.81089875 0.34034446\n",
            " 0.8748972  0.27370041 0.15751764 0.30648038 0.03491579 0.28124597\n",
            " 0.66011763 0.14228298 0.11136497 0.13238529 0.07755167 0.87463541\n",
            " 0.94411512 0.04656115 0.76007178 0.73715175 0.99690942 0.34787066\n",
            " 0.28550899 0.45308212 0.85657518 0.72859364 0.47162381 0.24456284\n",
            " 0.72701574 0.85452687 0.39995123 0.66858545 0.40021202 0.47849344\n",
            " 0.52491038 0.77572581]\n",
            "angle with constraint is: [ 30.9972192   27.23813473 -33.63827071 -33.79960365  -7.49409715\n",
            "  33.30858507  34.38764992 -35.33707353   6.68675592 -30.98923226\n",
            "  16.7516379   37.47899231  -4.07076368 -37.52255028   7.13287763\n",
            "  -8.23349969  27.98088771 -14.36899825  33.74074804 -20.36696331\n",
            " -30.82341277 -17.41676604 -41.85757874 -19.68786298  14.41058705\n",
            " -32.19453193 -34.97715245 -33.08532379 -38.02034932  33.71718707\n",
            "  39.97036039 -40.80949634  23.40646034  21.3436572   44.72184821\n",
            " -13.69164045 -19.30419075  -4.22260913  32.09176594  20.57342783\n",
            "  -2.55385674 -22.9893441   20.43141671  31.90741812  -9.0043892\n",
            "  15.17269012  -8.98091809  -1.93559057   2.2419342   24.81532326]\n",
            "shape of sample before is: (50, 28, 28)\n",
            "len(sample.shape) 3\n",
            "angle is: [0.97750598 0.44436616 0.34231501 0.37359101 0.13388907 0.29693874\n",
            " 0.08644741 0.42789426 0.16735727 0.34640675 0.79357775 0.24592765\n",
            " 0.61189462 0.90118142 0.56692919 0.19379261 0.34476619 0.59036921\n",
            " 0.50661114 0.14861984 0.44679634 0.54306669 0.26733271 0.61244552\n",
            " 0.0701601  0.33660703 0.80427683 0.2592848  0.60517685 0.41002971\n",
            " 0.31646014 0.91613169 0.34326172 0.2366759  0.90930132 0.74594436\n",
            " 0.68179971 0.04953494 0.13120496 0.63833996 0.20943284 0.22563799\n",
            " 0.77913852 0.28592495 0.0715873  0.03643195 0.44317799 0.61712858\n",
            " 0.86888523 0.1108044 ]\n",
            "angle with constraint is: [ 42.97553857  -5.00704536 -14.19164944 -11.37680942 -32.94998376\n",
            " -18.2755136  -37.21973281  -6.48951631 -29.93784576 -13.82339286\n",
            "  26.42199745 -22.86651145  10.07051592  36.10632773   6.02362683\n",
            " -27.55866485 -13.97104254   8.13322865   0.59500258 -31.62421474\n",
            "  -4.78832898   3.87600254 -20.9400557   10.12009638 -38.68559105\n",
            " -14.70536698  27.38491495 -21.66436792   9.4659165   -8.09732577\n",
            " -16.51858718  37.45185191 -14.10644537 -23.69916887  36.83711841\n",
            "  22.13499203  16.36197423 -40.54185521 -33.19155354  12.45059674\n",
            " -26.15104471 -24.69258129  25.12246638 -19.2667546  -38.55714281\n",
            " -41.72112474  -5.11398115  10.54157199  33.19967101 -35.02760445]\n",
            "Accuracy after rotation augmentation constrained by  90  is  0.6529\n"
          ]
        }
      ]
    },
    {
      "cell_type": "markdown",
      "source": [
        "Accuracy after rotation augmentation constrained by  90  is  0.6467"
      ],
      "metadata": {
        "id": "WtNkoqNe_T4t"
      }
    },
    {
      "cell_type": "markdown",
      "source": [
        "Let us see the best value for angle constraint: (Ideally this should be done on validation set, not test set)"
      ],
      "metadata": {
        "id": "8Le-7VJBoP8K"
      }
    },
    {
      "cell_type": "code",
      "source": [
        "fig = plt.figure()\n",
        "ax = fig.add_axes([0.1, 0.1, 0.8, 0.8]) # main axes\n",
        "# plot the variation of accuracy\n",
        "ax.plot(angleconstraints, accuracies)\n",
        "ax.set_xlabel('angle')\n",
        "ax.set_ylabel('accuracy')\n",
        "# plot the maximum accuracy\n",
        "maxind = np.argmax(accuracies)\n",
        "plt.scatter(angleconstraints[maxind], accuracies[maxind], c='red')"
      ],
      "metadata": {
        "colab": {
          "base_uri": "https://localhost:8080/",
          "height": 310
        },
        "id": "xG__xE-FoQOg",
        "outputId": "3f0a0ab1-9109-4015-dcce-a0f349b37b8b"
      },
      "execution_count": 37,
      "outputs": [
        {
          "output_type": "execute_result",
          "data": {
            "text/plain": [
              "<matplotlib.collections.PathCollection at 0x7f71c8b02850>"
            ]
          },
          "metadata": {},
          "execution_count": 37
        },
        {
          "output_type": "display_data",
          "data": {
            "text/plain": [
              "<Figure size 432x288 with 1 Axes>"
            ],
            "image/png": "[encoded data removed]"
          },
          "metadata": {
            "needs_background": "light"
          }
        }
      ]
    },
    {
      "cell_type": "markdown",
      "source": [
        "Let us do a grid search to find the best shear constraint."
      ],
      "metadata": {
        "id": "Vfy-LEb-qdUd"
      }
    },
    {
      "cell_type": "code",
      "source": [
        "shearconstraints = [0, 0.2,0.4,0.6,0.8,1.0,1.2,1.4,1.6,1.8,2.0] # the values we want to test\n",
        "accuracies = np.zeros(len(shearconstraints), dtype=np.float) # we will save the values here\n",
        "\n",
        "for ii in range(len(shearconstraints)):\n",
        "  # create the augmented dataset\n",
        "  augdata = train_X # we include the original images also in the augmented dataset\n",
        "  auglabel = train_y\n",
        "  for jj in range(naugmentations):\n",
        "    augdata = np.concatenate((augdata, augShear(train_X, shearconstraints[ii]))) # concatenate the augmented data to the set\n",
        "    auglabel = np.concatenate((auglabel, train_y))  # the labels don't change when we augment\n",
        "\n",
        "  # check the test accuracy\n",
        "  testpred = NN(augdata, auglabel, test_X)\n",
        "  accuracies[ii] = Accuracy(test_y, testpred)\n",
        "  print('Accuracy after shear augmentation constrained by ',shearconstraints[ii], ' is ', accuracies[ii], flush=True)"
      ],
      "metadata": {
        "colab": {
          "base_uri": "https://localhost:8080/"
        },
        "id": "22m9xPrBoSDi",
        "outputId": "3a30ccad-1a61-4605-cbc4-221512831e83"
      },
      "execution_count": 38,
      "outputs": [
        {
          "output_type": "stream",
          "name": "stderr",
          "text": [
            "/usr/local/lib/python3.7/dist-packages/ipykernel_launcher.py:2: DeprecationWarning: `np.float` is a deprecated alias for the builtin `float`. To silence this warning, use `float` by itself. Doing this will not modify any behavior and is safe. If you specifically wanted the numpy scalar type, use `np.float64` here.\n",
            "Deprecated in NumPy 1.20; for more details and guidance: https://numpy.org/devdocs/release/1.20.0-notes.html#deprecations\n",
            "  \n"
          ]
        },
        {
          "output_type": "stream",
          "name": "stdout",
          "text": [
            "Accuracy after shear augmentation constrained by  0  is  0.6472\n",
            "Accuracy after shear augmentation constrained by  0.2  is  0.6184\n",
            "Accuracy after shear augmentation constrained by  0.4  is  0.6445\n",
            "Accuracy after shear augmentation constrained by  0.6  is  0.6396\n",
            "Accuracy after shear augmentation constrained by  0.8  is  0.6585\n",
            "Accuracy after shear augmentation constrained by  1.0  is  0.6496\n",
            "Accuracy after shear augmentation constrained by  1.2  is  0.6543\n",
            "Accuracy after shear augmentation constrained by  1.4  is  0.6262\n",
            "Accuracy after shear augmentation constrained by  1.6  is  0.6142\n",
            "Accuracy after shear augmentation constrained by  1.8  is  0.6215\n",
            "Accuracy after shear augmentation constrained by  2.0  is  0.6164\n"
          ]
        }
      ]
    },
    {
      "cell_type": "code",
      "source": [
        "fig = plt.figure()\n",
        "ax = fig.add_axes([0.1, 0.1, 0.8, 0.8]) # main axes\n",
        "# plot the variation of accuracy\n",
        "ax.plot(shearconstraints, accuracies)\n",
        "ax.set_xlabel('angle')\n",
        "ax.set_ylabel('accuracy')\n",
        "# plot the maximum accuracy\n",
        "maxind = np.argmax(accuracies)\n",
        "plt.scatter(shearconstraints[maxind], accuracies[maxind], c='red')"
      ],
      "metadata": {
        "colab": {
          "base_uri": "https://localhost:8080/",
          "height": 311
        },
        "id": "kBBum9xPqglf",
        "outputId": "c67db4ea-414c-469c-97ba-c83ce38ad917"
      },
      "execution_count": 39,
      "outputs": [
        {
          "output_type": "execute_result",
          "data": {
            "text/plain": [
              "<matplotlib.collections.PathCollection at 0x7f71c7c10bd0>"
            ]
          },
          "metadata": {},
          "execution_count": 39
        },
        {
          "output_type": "display_data",
          "data": {
            "text/plain": [
              "<Figure size 432x288 with 1 Axes>"
            ],
            "image/png": "[encoded data removed]"
          },
          "metadata": {
            "needs_background": "light"
          }
        }
      ]
    },
    {
      "cell_type": "markdown",
      "source": [
        "We can do multiple augmentations at the same time. Here is a function to do both shear and rotation to the sample. In this case, we will have two hyperparameters."
      ],
      "metadata": {
        "id": "88Bu9veestqd"
      }
    },
    {
      "cell_type": "code",
      "source": [
        "def augRotateShear(sample, angleconstraint, shearconstraint):\n",
        "  if len(sample.shape)==2:\n",
        "    sample = np.expand_dims(sample, 0)  # make sure the sample is 3 dimensional\n",
        "  amt = rng.random(len(sample)) # generate random numbers for shear\n",
        "  amt = (amt-0.5)*shearconstraint # make the random shear constrained\n",
        "  angle = rng.random(len(sample)) # generate random numbers for angles\n",
        "  angle = (angle-0.5)*angleconstraint # make the random angle constrained\n",
        "  nsample = sample.copy() # preallocate the augmented array to make it faster\n",
        "  for ii in range(len(sample)):\n",
        "    nsample[ii] = rotate(shear(sample[ii], amt[ii]), angle[ii]) # first apply shear, then rotate\n",
        "  return np.squeeze(nsample) # take care if the input had only one sample."
      ],
      "metadata": {
        "id": "T9CflCiur-lr"
      },
      "execution_count": 40,
      "outputs": []
    },
    {
      "cell_type": "markdown",
      "source": [
        "Since we have two hyperparameters, we have to do the grid search on a 2 dimensional matrix. We can use our previous experience to inform where to search for the best hyperparameters. "
      ],
      "metadata": {
        "id": "-EdNnol9s4NZ"
      }
    },
    {
      "cell_type": "code",
      "source": [
        "shearconstraints = [0, 0.2,0.4,0.6,0.8,1.0,1.2,1.4,1.6] # the values we want to test\n",
        "angleconstraints = [0,10,20,30,40,50,60] # the values we want to test\n",
        "hyp = cartesian((shearconstraints, angleconstraints)) # cartesian product of both\n",
        "\n",
        "accuracies = np.zeros(len(hyp), dtype=np.float) # we will save the values here\n",
        "\n",
        "for ii in range(len(hyp)):\n",
        "  # create the augmented dataset\n",
        "  augdata = train_X # we include the original images also in the augmented dataset\n",
        "  auglabel = train_y\n",
        "  for jj in range(naugmentations):\n",
        "    augdata = np.concatenate((augdata, augRotateShear(train_X, hyp[ii][0], hyp[ii][1]))) # concatenate the augmented data to the set\n",
        "    auglabel = np.concatenate((auglabel, train_y))  # the labels don't change when we augment\n",
        "\n",
        "  # check the test accuracy\n",
        "  testpred = NN(augdata, auglabel, test_X)\n",
        "  accuracies[ii] = Accuracy(test_y, testpred)\n",
        "  print('Accuracy after augmentation shear:',hyp[ii][0], 'angle:',hyp[ii][1], ' is ', accuracies[ii], flush=True)"
      ],
      "metadata": {
        "colab": {
          "base_uri": "https://localhost:8080/"
        },
        "id": "UfmRisY-swyX",
        "outputId": "08793e13-2d24-4e4c-e208-8852339f1b29"
      },
      "execution_count": 41,
      "outputs": [
        {
          "output_type": "stream",
          "name": "stderr",
          "text": [
            "/usr/local/lib/python3.7/dist-packages/ipykernel_launcher.py:5: DeprecationWarning: `np.float` is a deprecated alias for the builtin `float`. To silence this warning, use `float` by itself. Doing this will not modify any behavior and is safe. If you specifically wanted the numpy scalar type, use `np.float64` here.\n",
            "Deprecated in NumPy 1.20; for more details and guidance: https://numpy.org/devdocs/release/1.20.0-notes.html#deprecations\n",
            "  \"\"\"\n"
          ]
        },
        {
          "output_type": "stream",
          "name": "stdout",
          "text": [
            "Accuracy after augmentation shear: 0.0 angle: 0.0  is  0.6332\n",
            "Accuracy after augmentation shear: 0.0 angle: 10.0  is  0.6273\n",
            "Accuracy after augmentation shear: 0.0 angle: 20.0  is  0.5972\n",
            "Accuracy after augmentation shear: 0.0 angle: 30.0  is  0.6075\n",
            "Accuracy after augmentation shear: 0.0 angle: 40.0  is  0.5936\n",
            "Accuracy after augmentation shear: 0.0 angle: 50.0  is  0.6043\n",
            "Accuracy after augmentation shear: 0.0 angle: 60.0  is  0.6057\n",
            "Accuracy after augmentation shear: 0.2 angle: 0.0  is  0.6333\n",
            "Accuracy after augmentation shear: 0.2 angle: 10.0  is  0.5975\n",
            "Accuracy after augmentation shear: 0.2 angle: 20.0  is  0.5997\n",
            "Accuracy after augmentation shear: 0.2 angle: 30.0  is  0.6021\n",
            "Accuracy after augmentation shear: 0.2 angle: 40.0  is  0.5878\n",
            "Accuracy after augmentation shear: 0.2 angle: 50.0  is  0.6118\n",
            "Accuracy after augmentation shear: 0.2 angle: 60.0  is  0.5717\n",
            "Accuracy after augmentation shear: 0.4 angle: 0.0  is  0.6334\n",
            "Accuracy after augmentation shear: 0.4 angle: 10.0  is  0.5931\n",
            "Accuracy after augmentation shear: 0.4 angle: 20.0  is  0.6019\n",
            "Accuracy after augmentation shear: 0.4 angle: 30.0  is  0.6091\n",
            "Accuracy after augmentation shear: 0.4 angle: 40.0  is  0.615\n",
            "Accuracy after augmentation shear: 0.4 angle: 50.0  is  0.5804\n",
            "Accuracy after augmentation shear: 0.4 angle: 60.0  is  0.5935\n",
            "Accuracy after augmentation shear: 0.6 angle: 0.0  is  0.6324\n",
            "Accuracy after augmentation shear: 0.6 angle: 10.0  is  0.6009\n",
            "Accuracy after augmentation shear: 0.6 angle: 20.0  is  0.5947\n",
            "Accuracy after augmentation shear: 0.6 angle: 30.0  is  0.6049\n",
            "Accuracy after augmentation shear: 0.6 angle: 40.0  is  0.6005\n",
            "Accuracy after augmentation shear: 0.6 angle: 50.0  is  0.6094\n",
            "Accuracy after augmentation shear: 0.6 angle: 60.0  is  0.5756\n",
            "Accuracy after augmentation shear: 0.8 angle: 0.0  is  0.6332\n",
            "Accuracy after augmentation shear: 0.8 angle: 10.0  is  0.619\n",
            "Accuracy after augmentation shear: 0.8 angle: 20.0  is  0.6066\n",
            "Accuracy after augmentation shear: 0.8 angle: 30.0  is  0.6033\n",
            "Accuracy after augmentation shear: 0.8 angle: 40.0  is  0.5786\n",
            "Accuracy after augmentation shear: 0.8 angle: 50.0  is  0.5873\n",
            "Accuracy after augmentation shear: 0.8 angle: 60.0  is  0.587\n",
            "Accuracy after augmentation shear: 1.0 angle: 0.0  is  0.6334\n",
            "Accuracy after augmentation shear: 1.0 angle: 10.0  is  0.5914\n",
            "Accuracy after augmentation shear: 1.0 angle: 20.0  is  0.5749\n",
            "Accuracy after augmentation shear: 1.0 angle: 30.0  is  0.6068\n",
            "Accuracy after augmentation shear: 1.0 angle: 40.0  is  0.6245\n",
            "Accuracy after augmentation shear: 1.0 angle: 50.0  is  0.6095\n",
            "Accuracy after augmentation shear: 1.0 angle: 60.0  is  0.5882\n",
            "Accuracy after augmentation shear: 1.2 angle: 0.0  is  0.6329\n",
            "Accuracy after augmentation shear: 1.2 angle: 10.0  is  0.5998\n",
            "Accuracy after augmentation shear: 1.2 angle: 20.0  is  0.5799\n",
            "Accuracy after augmentation shear: 1.2 angle: 30.0  is  0.5805\n",
            "Accuracy after augmentation shear: 1.2 angle: 40.0  is  0.6108\n",
            "Accuracy after augmentation shear: 1.2 angle: 50.0  is  0.5911\n",
            "Accuracy after augmentation shear: 1.2 angle: 60.0  is  0.5831\n",
            "Accuracy after augmentation shear: 1.4 angle: 0.0  is  0.6334\n",
            "Accuracy after augmentation shear: 1.4 angle: 10.0  is  0.6076\n",
            "Accuracy after augmentation shear: 1.4 angle: 20.0  is  0.6161\n",
            "Accuracy after augmentation shear: 1.4 angle: 30.0  is  0.5989\n",
            "Accuracy after augmentation shear: 1.4 angle: 40.0  is  0.6245\n",
            "Accuracy after augmentation shear: 1.4 angle: 50.0  is  0.6129\n",
            "Accuracy after augmentation shear: 1.4 angle: 60.0  is  0.5946\n",
            "Accuracy after augmentation shear: 1.6 angle: 0.0  is  0.6349\n",
            "Accuracy after augmentation shear: 1.6 angle: 10.0  is  0.5935\n",
            "Accuracy after augmentation shear: 1.6 angle: 20.0  is  0.5841\n",
            "Accuracy after augmentation shear: 1.6 angle: 30.0  is  0.5963\n",
            "Accuracy after augmentation shear: 1.6 angle: 40.0  is  0.6091\n",
            "Accuracy after augmentation shear: 1.6 angle: 50.0  is  0.5856\n",
            "Accuracy after augmentation shear: 1.6 angle: 60.0  is  0.5959\n"
          ]
        }
      ]
    },
    {
      "cell_type": "markdown",
      "source": [
        "Let us plot it two dimensionally to see which is the best value for the hyperparameters:"
      ],
      "metadata": {
        "id": "twI4Tk5etBTE"
      }
    },
    {
      "cell_type": "code",
      "source": [
        "fig = plt.figure()\n",
        "ax = fig.add_axes([0.1, 0.1, 0.8, 0.8]) # main axes\n",
        "im = ax.imshow(accuracies.reshape((len(shearconstraints), len(angleconstraints))), cmap='inferno') \n",
        "ax.set_xlabel('angle')\n",
        "ax.set_ylabel('shear')\n",
        "ax.set_xticks(np.arange(len(angleconstraints)));\n",
        "ax.set_xticklabels(angleconstraints);\n",
        "ax.set_yticks(np.arange(len(shearconstraints)));\n",
        "ax.set_yticklabels(shearconstraints);\n",
        "plt.colorbar(im)"
      ],
      "metadata": {
        "colab": {
          "base_uri": "https://localhost:8080/",
          "height": 309
        },
        "id": "CS8X6jLAs7hW",
        "outputId": "54d7c272-1aa4-49f7-92eb-28b9c161637b"
      },
      "execution_count": null,
      "outputs": [
        {
          "output_type": "execute_result",
          "data": {
            "text/plain": [
              "<matplotlib.colorbar.Colorbar at 0x7fe537619a90>"
            ]
          },
          "metadata": {},
          "execution_count": 38
        },
        {
          "output_type": "display_data",
          "data": {
            "text/plain": [
              "<Figure size 432x288 with 2 Axes>"
            ],
            "image/png": "[encoded data removed]"
          },
          "metadata": {
            "needs_background": "light"
          }
        }
      ]
    },
    {
      "cell_type": "markdown",
      "source": [],
      "metadata": {
        "id": "KPnyEfM4yKNg"
      }
    },
    {
      "cell_type": "markdown",
      "source": [
        "It seems that rotation and shear don't mix! The best accuracy is when rotation is zero."
      ],
      "metadata": {
        "id": "JRnymka4vnla"
      }
    },
    {
      "cell_type": "markdown",
      "source": [
        "## Questions\n",
        "Try these questions for better understanding. You may not be able to solve all of them. \n",
        "1. What is the best value for angle constraint and shear constraint you got? How much did the accuracy improve as compared to not using augmentations?\n",
        "2. Can you increase the accuracy by increasing the number of augmentations from each sample?\n",
        "3. Try implementing a few augmentations of your own and experimenting with them. A good reference is <a href=https://www.analyticsvidhya.com/blog/2019/12/image-augmentation-deep-learning-pytorch/>here. </a>\n",
        "4. Try combining various augmentations. What is the highest accuracy you can get? What is the smallest training dataset you can take and still get accuracy above 50%?\n",
        "\n",
        "Whenever you do any experiment, a good practice is to vary the hyperparameters gradually and create a graph of your results, like we did for gridsearch. "
      ],
      "metadata": {
        "id": "cU9AxYWJvs_P"
      }
    },
    {
      "cell_type": "markdown",
      "source": [
        "# **ANSWER FOR QUESTION 1**\n",
        "\n",
        "\n",
        "\n",
        "The beat values of shear constraint is 0.4,0.6,0.8,1.0,1.2,1.4,1.6 The best values of angle constraint is 0.0,0.0,0.0,0.0,0.0,0.0,10.0"
      ],
      "metadata": {
        "id": "ouDcTKzzyNIV"
      }
    },
    {
      "cell_type": "markdown",
      "source": [
        "**ANSWER FOR QUESTION 2**\n",
        "\n",
        "Yes,we increase the accuracy by increasing the number of augumentaions from each sample.**"
      ],
      "metadata": {
        "id": "wM6ESnODyYhu"
      }
    },
    {
      "cell_type": "markdown",
      "source": [
        "# **ANSWER FOR QUESTION 3**"
      ],
      "metadata": {
        "id": "UO559dvMyjAG"
      }
    },
    {
      "cell_type": "code",
      "source": [
        "from google.colab import drive\n",
        "drive.mount('/content/gdrive')"
      ],
      "metadata": {
        "id": "U8vjAkkdvjOk",
        "outputId": "6d874858-a6b1-4c5c-e30b-65ec7d401525",
        "colab": {
          "base_uri": "https://localhost:8080/"
        }
      },
      "execution_count": 43,
      "outputs": [
        {
          "output_type": "stream",
          "name": "stdout",
          "text": [
            "Mounted at /content/gdrive\n"
          ]
        }
      ]
    },
    {
      "cell_type": "code",
      "source": [
        "# importing all the required libraries\n",
        "import skimage.io as io\n",
        "image=io.imread('/content/Screenshot (1).png')\n",
        "print(image.shape)\n",
        "io.imshow(image)"
      ],
      "metadata": {
        "id": "m2YXKtwpya3x",
        "outputId": "3f123adc-3f92-43df-f3f2-42548c0140c3",
        "colab": {
          "base_uri": "https://localhost:8080/",
          "height": 301
        }
      },
      "execution_count": 44,
      "outputs": [
        {
          "output_type": "stream",
          "name": "stdout",
          "text": [
            "(1080, 1920, 4)\n"
          ]
        },
        {
          "output_type": "execute_result",
          "data": {
            "text/plain": [
              "<matplotlib.image.AxesImage at 0x7f71c7017dd0>"
            ]
          },
          "metadata": {},
          "execution_count": 44
        },
        {
          "output_type": "display_data",
          "data": {
            "text/plain": [
              "<Figure size 432x288 with 1 Axes>"
            ],
            "image/png": "[encoded data removed]"
          },
          "metadata": {
            "needs_background": "light"
          }
        }
      ]
    },
    {
      "cell_type": "code",
      "source": [
        "import numpy as np\n",
        "flipLR=np.fliplr(image)\n",
        "plt.imshow(flipLR)\n",
        "plt.title('Left to Right')"
      ],
      "metadata": {
        "id": "GO3XKwRG-hW_",
        "outputId": "6f9ba9ef-b121-410d-f780-d739d67dbf07",
        "colab": {
          "base_uri": "https://localhost:8080/",
          "height": 270
        }
      },
      "execution_count": 45,
      "outputs": [
        {
          "output_type": "execute_result",
          "data": {
            "text/plain": [
              "Text(0.5, 1.0, 'Left to Right')"
            ]
          },
          "metadata": {},
          "execution_count": 45
        },
        {
          "output_type": "display_data",
          "data": {
            "text/plain": [
              "<Figure size 432x288 with 1 Axes>"
            ],
            "image/png": "[encoded data removed]"
          },
          "metadata": {
            "needs_background": "light"
          }
        }
      ]
    },
    {
      "cell_type": "markdown",
      "source": [
        "# **ANSWER FOR QUESTION 4**"
      ],
      "metadata": {
        "id": "xbEvkgI6-oty"
      }
    },
    {
      "cell_type": "code",
      "source": [
        "from google.colab import drive\n",
        "drive.mount('/content/gdrive')"
      ],
      "metadata": {
        "id": "YZ3TRLkx-vWT",
        "outputId": "bdd4841d-50c9-4cf7-f086-8e65e5d74f97",
        "colab": {
          "base_uri": "https://localhost:8080/"
        }
      },
      "execution_count": 46,
      "outputs": [
        {
          "output_type": "stream",
          "name": "stdout",
          "text": [
            "Drive already mounted at /content/gdrive; to attempt to forcibly remount, call drive.mount(\"/content/gdrive\", force_remount=True).\n"
          ]
        }
      ]
    },
    {
      "cell_type": "code",
      "source": [
        "# importing all the required libraries\n",
        "import skimage.io as io\n",
        "image=io.imread('/content/Screenshot (1).png')\n",
        "print(image.shape)\n",
        "io.imshow(image)\n"
      ],
      "metadata": {
        "id": "pFJpP4Wq-0rV",
        "outputId": "60170f8a-6675-4821-ddf1-c42d82df4f86",
        "colab": {
          "base_uri": "https://localhost:8080/",
          "height": 301
        }
      },
      "execution_count": 47,
      "outputs": [
        {
          "output_type": "stream",
          "name": "stdout",
          "text": [
            "(1080, 1920, 4)\n"
          ]
        },
        {
          "output_type": "execute_result",
          "data": {
            "text/plain": [
              "<matplotlib.image.AxesImage at 0x7f71c477db10>"
            ]
          },
          "metadata": {},
          "execution_count": 47
        },
        {
          "output_type": "display_data",
          "data": {
            "text/plain": [
              "<Figure size 432x288 with 1 Axes>"
            ],
            "image/png": "[encoded data removed]"
          },
          "metadata": {
            "needs_background": "light"
          }
        }
      ]
    },
    {
      "cell_type": "code",
      "source": [
        "# flip image uo to down \n",
        "import numpy as np\n",
        "flipUD=np.flipud(image)\n",
        "plt.imshow(flipUD)\n",
        "plt.title('Up Down Flipped')"
      ],
      "metadata": {
        "id": "VlIYiSjm_JdA",
        "outputId": "94ffe89d-abe4-4423-e9e5-6aa3e6b612c2",
        "colab": {
          "base_uri": "https://localhost:8080/",
          "height": 270
        }
      },
      "execution_count": 48,
      "outputs": [
        {
          "output_type": "execute_result",
          "data": {
            "text/plain": [
              "Text(0.5, 1.0, 'Up Down Flipped')"
            ]
          },
          "metadata": {},
          "execution_count": 48
        },
        {
          "output_type": "display_data",
          "data": {
            "text/plain": [
              "<Figure size 432x288 with 1 Axes>"
            ],
            "image/png": "[encoded data removed]"
          },
          "metadata": {
            "needs_background": "light"
          }
        }
      ]
    }
  ]
}